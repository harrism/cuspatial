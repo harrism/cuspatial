{
 "cells": [
  {
   "cell_type": "markdown",
   "id": "4655f19f",
   "metadata": {},
   "source": [
    "# Simple cuProj WGS84 to UTM Projection Benchmark\n",
    "\n",
    "This notebook is a simple benchmark of the cuProj library. It compares the performance of the cuProj library to the performance of the [PyProj]https://pyproj4.github.io/pyproj/stable/index.html) library. The benchmark is performed on a single GPU and a single CPU, respectively.\n",
    "\n",
    "## Imports and setup"
   ]
  },
  {
   "cell_type": "code",
   "execution_count": 1,
   "id": "0a8ad0ad",
   "metadata": {},
   "outputs": [
    {
     "ename": "KeyboardInterrupt",
     "evalue": "",
     "output_type": "error",
     "traceback": [
      "\u001b[0;31m---------------------------------------------------------------------------\u001b[0m",
      "\u001b[0;31mKeyboardInterrupt\u001b[0m                         Traceback (most recent call last)",
      "Cell \u001b[0;32mIn[1], line 1\u001b[0m\n\u001b[0;32m----> 1\u001b[0m \u001b[39mimport\u001b[39;00m \u001b[39mnumpy\u001b[39;00m \u001b[39mas\u001b[39;00m \u001b[39mnp\u001b[39;00m\n\u001b[1;32m      2\u001b[0m \u001b[39mimport\u001b[39;00m \u001b[39mcupy\u001b[39;00m \u001b[39mas\u001b[39;00m \u001b[39mcp\u001b[39;00m\n\u001b[1;32m      3\u001b[0m \u001b[39mfrom\u001b[39;00m \u001b[39mcuda\u001b[39;00m \u001b[39mimport\u001b[39;00m cudart\n",
      "File \u001b[0;32m<frozen importlib._bootstrap>:1027\u001b[0m, in \u001b[0;36m_find_and_load\u001b[0;34m(name, import_)\u001b[0m\n",
      "File \u001b[0;32m<frozen importlib._bootstrap>:1006\u001b[0m, in \u001b[0;36m_find_and_load_unlocked\u001b[0;34m(name, import_)\u001b[0m\n",
      "File \u001b[0;32m<frozen importlib._bootstrap>:688\u001b[0m, in \u001b[0;36m_load_unlocked\u001b[0;34m(spec)\u001b[0m\n",
      "File \u001b[0;32m<frozen importlib._bootstrap_external>:879\u001b[0m, in \u001b[0;36mexec_module\u001b[0;34m(self, module)\u001b[0m\n",
      "File \u001b[0;32m<frozen importlib._bootstrap_external>:975\u001b[0m, in \u001b[0;36mget_code\u001b[0;34m(self, fullname)\u001b[0m\n",
      "File \u001b[0;32m<frozen importlib._bootstrap_external>:1074\u001b[0m, in \u001b[0;36mget_data\u001b[0;34m(self, path)\u001b[0m\n",
      "\u001b[0;31mKeyboardInterrupt\u001b[0m: "
     ]
    }
   ],
   "source": [
    "import numpy as np\n",
    "import cupy as cp\n",
    "from cuda import cudart\n",
    "\n",
    "from pyproj import Transformer\n",
    "from cuproj import Transformer as cuTransformer\n",
    "\n",
    "import timeit\n",
    "\n",
    "import matplotlib.pyplot as plt"
   ]
  },
  {
   "cell_type": "markdown",
   "id": "7d94cfbe",
   "metadata": {},
   "source": [
    "The benchmark is performed on a 2D grid of (latitude, longitude) points in the WGS84 (EPSG 4326) coordinate reference system (CRS), transforming them to UTM Zone 10N (EPSG 32610) . The grid is defined around San Francisco, California, USA."
   ]
  },
  {
   "cell_type": "code",
   "execution_count": null,
   "id": "18f27ef1",
   "metadata": {},
   "outputs": [],
   "source": [
    "# San Francisco bounding box\n",
    "min_corner = (37.7081, -122.5149)\n",
    "max_corner = (37.8324, -122.3573)\n",
    "crs_from = \"EPSG:4326\"\n",
    "crs_to = \"EPSG:32610\""
   ]
  },
  {
   "cell_type": "markdown",
   "id": "dbc73961",
   "metadata": {},
   "source": [
    "The following functions generate a grid and transform all the points on the grid from WGS84 to UTM.\n",
    "There are two versions of the cuProj benchmark: one uses a Cupy ndarray stored in device memory and the other a Numpy ndarray stored in host memory. The latter includes the cost to copy the data from host to device memory, while the former times only the GPU computation."
   ]
  },
  {
   "cell_type": "code",
   "execution_count": null,
   "id": "af10c517",
   "metadata": {},
   "outputs": [],
   "source": [
    "def run_pyproj(num_points):\n",
    "    grid_side = int(np.sqrt(num_points))\n",
    "    transformer = Transformer.from_crs(crs_from, crs_to)\n",
    "\n",
    "    x, y = np.meshgrid(np.linspace(min_corner[0], max_corner[0], grid_side),\n",
    "                       np.linspace(min_corner[1], max_corner[1], grid_side))\n",
    "\n",
    "    grid = [x.reshape(-1), y.reshape(-1)]\n",
    "\n",
    "    # warmup\n",
    "    transformer.transform(*grid)\n",
    "\n",
    "    t = timeit.Timer(lambda: transformer.transform(*grid))\n",
    "    return t.autorange()\n",
    "\n",
    "def cu_run_and_sync(transformer, grid):\n",
    "  transformer.transform(*grid)\n",
    "  cudart.cudaDeviceSynchronize()\n",
    "\n",
    "def run_cuproj(num_points):\n",
    "    grid_side = int(np.sqrt(num_points))\n",
    "    transformer = cuTransformer.from_crs(crs_from, crs_to)\n",
    "\n",
    "    x, y = cp.meshgrid(cp.linspace(min_corner[0], max_corner[0], grid_side),\n",
    "                       cp.linspace(min_corner[1], max_corner[1], grid_side))\n",
    "\n",
    "    grid = [x.reshape(-1), y.reshape(-1)]\n",
    "\n",
    "    # warmup\n",
    "    cu_run_and_sync(transformer, grid)\n",
    "\n",
    "    t = timeit.Timer(lambda: cu_run_and_sync(transformer, grid))\n",
    "    return t.autorange()\n",
    "\n",
    "def run_cuproj_host_data(num_points):\n",
    "    grid_side = int(np.sqrt(num_points))\n",
    "    transformer = cuTransformer.from_crs(crs_from, crs_to)\n",
    "\n",
    "    x, y = np.meshgrid(np.linspace(min_corner[0], max_corner[0], grid_side),\n",
    "                       np.linspace(min_corner[1], max_corner[1], grid_side))\n",
    "\n",
    "    grid = [x.reshape(-1), y.reshape(-1)]\n",
    "\n",
    "    # warmup\n",
    "    cu_run_and_sync(transformer, grid)\n",
    "\n",
    "    t = timeit.Timer(lambda: cu_run_and_sync(transformer, grid))\n",
    "    return t.autorange()"
   ]
  },
  {
   "cell_type": "markdown",
   "id": "594581d7",
   "metadata": {},
   "source": [
    "## Run Benchmarks\n",
    "\n",
    "Run each benchmark and compute the throughput in points per second."
   ]
  },
  {
   "cell_type": "code",
   "execution_count": null,
   "id": "1813cc85",
   "metadata": {},
   "outputs": [
    {
     "ename": "KeyboardInterrupt",
     "evalue": "",
     "output_type": "error",
     "traceback": [
      "\u001b[0;31m---------------------------------------------------------------------------\u001b[0m",
      "\u001b[0;31mKeyboardInterrupt\u001b[0m                         Traceback (most recent call last)",
      "Cell \u001b[0;32mIn[38], line 11\u001b[0m\n\u001b[1;32m      9\u001b[0m \u001b[39m# pyproj\u001b[39;00m\n\u001b[1;32m     10\u001b[0m \u001b[39mfor\u001b[39;00m n \u001b[39min\u001b[39;00m num_points:\n\u001b[0;32m---> 11\u001b[0m     iters, time \u001b[39m=\u001b[39m run_pyproj(n)\n\u001b[1;32m     12\u001b[0m     throughput_pyproj\u001b[39m.\u001b[39mappend(n \u001b[39m/\u001b[39m (time \u001b[39m/\u001b[39m iters))\n\u001b[1;32m     14\u001b[0m \u001b[39m# cuproj data on device\u001b[39;00m\n",
      "Cell \u001b[0;32mIn[8], line 11\u001b[0m, in \u001b[0;36mrun_pyproj\u001b[0;34m(num_points)\u001b[0m\n\u001b[1;32m      8\u001b[0m grid \u001b[39m=\u001b[39m [x\u001b[39m.\u001b[39mreshape(\u001b[39m-\u001b[39m\u001b[39m1\u001b[39m), y\u001b[39m.\u001b[39mreshape(\u001b[39m-\u001b[39m\u001b[39m1\u001b[39m)]\n\u001b[1;32m     10\u001b[0m \u001b[39m# warmup\u001b[39;00m\n\u001b[0;32m---> 11\u001b[0m transformer\u001b[39m.\u001b[39;49mtransform(\u001b[39m*\u001b[39;49mgrid)\n\u001b[1;32m     13\u001b[0m t \u001b[39m=\u001b[39m timeit\u001b[39m.\u001b[39mTimer(\u001b[39mlambda\u001b[39;00m: transformer\u001b[39m.\u001b[39mtransform(\u001b[39m*\u001b[39mgrid))\n\u001b[1;32m     14\u001b[0m \u001b[39mreturn\u001b[39;00m t\u001b[39m.\u001b[39mautorange()\n",
      "File \u001b[0;32m~/.conda/envs/rapids/lib/python3.10/site-packages/pyproj/transformer.py:843\u001b[0m, in \u001b[0;36mTransformer.transform\u001b[0;34m(self, xx, yy, zz, tt, radians, errcheck, direction, inplace)\u001b[0m\n\u001b[1;32m    841\u001b[0m     intime \u001b[39m=\u001b[39m \u001b[39mNone\u001b[39;00m\n\u001b[1;32m    842\u001b[0m \u001b[39m# call pj_transform.  inx,iny,inz buffers modified in place.\u001b[39;00m\n\u001b[0;32m--> 843\u001b[0m \u001b[39mself\u001b[39;49m\u001b[39m.\u001b[39;49m_transformer\u001b[39m.\u001b[39;49m_transform(\n\u001b[1;32m    844\u001b[0m     inx\u001b[39m=\u001b[39;49minx,\n\u001b[1;32m    845\u001b[0m     iny\u001b[39m=\u001b[39;49miny,\n\u001b[1;32m    846\u001b[0m     inz\u001b[39m=\u001b[39;49minz,\n\u001b[1;32m    847\u001b[0m     intime\u001b[39m=\u001b[39;49mintime,\n\u001b[1;32m    848\u001b[0m     direction\u001b[39m=\u001b[39;49mdirection,\n\u001b[1;32m    849\u001b[0m     radians\u001b[39m=\u001b[39;49mradians,\n\u001b[1;32m    850\u001b[0m     errcheck\u001b[39m=\u001b[39;49merrcheck,\n\u001b[1;32m    851\u001b[0m )\n\u001b[1;32m    852\u001b[0m \u001b[39m# if inputs were lists, tuples or floats, convert back.\u001b[39;00m\n\u001b[1;32m    853\u001b[0m outx \u001b[39m=\u001b[39m _convertback(x_data_type, inx)\n",
      "\u001b[0;31mKeyboardInterrupt\u001b[0m: "
     ]
    }
   ],
   "source": [
    "min_points = 100\n",
    "max_points = 1e9 \n",
    "num_points = np.geomspace(min_points, max_points, 8).astype(int)\n",
    "\n",
    "throughput_pyproj = []\n",
    "throughput_cuproj = []\n",
    "throughput_cuproj_host_data = []\n",
    "\n",
    "# pyproj\n",
    "for n in num_points:\n",
    "    iters, time = run_pyproj(n)\n",
    "    throughput_pyproj.append(n / (time / iters))\n",
    "    \n",
    "# cuproj data on device\n",
    "for n in num_points:\n",
    "    iters, time = run_cuproj(n)\n",
    "    throughput_cuproj.append(n / (time / iters))\n",
    "\n",
    "# cuproj including host to device copy\n",
    "for n in num_points:\n",
    "    iters, time = run_cuproj_host_data(n)\n",
    "    throughput_cuproj_host_data.append(n / (time / iters))"
   ]
  },
  {
   "cell_type": "markdown",
   "id": "17425148",
   "metadata": {},
   "source": [
    "## Results\n",
    "\n",
    "Plot the results using matplotlib."
   ]
  },
  {
   "cell_type": "code",
   "execution_count": null,
   "id": "146c1d60",
   "metadata": {},
   "outputs": [
    {
     "data": {
      "image/png": "[encoded data removed]",
      "text/plain": [
       "<Figure size 640x480 with 1 Axes>"
      ]
     },
     "metadata": {},
     "output_type": "display_data"
    }
   ],
   "source": [
    "mean_throughputs = {'PyProj': throughput_pyproj, \n",
    "          'cuProj (device data)': throughput_cuproj,\n",
    "          'cuProj (host data)': throughput_cuproj_host_data}\n",
    "\n",
    "x = np.arange(len(num_points))\n",
    "width = 0.25\n",
    "\n",
    "fig, ax = plt.subplots()\n",
    "\n",
    "ax.set_yscale('log')\n",
    "ax.set_ylabel('Throughput (points/s)')\n",
    "ax.set_xlabel('Grid size (points)')\n",
    "ax.set_title('WGS84 to UTM Throughput')\n",
    "ax.set_xticks(x)\n",
    "\n",
    "import locale\n",
    "locale.setlocale(locale.LC_ALL, '')  # set the locale to the user's default\n",
    "\n",
    "powers = [int(np.log10(n)) for n in num_points]\n",
    "ax.set_xticklabels([f'$10^{n}$' for n in powers])\n",
    "\n",
    "for i, label in enumerate(mean_throughputs.keys()):\n",
    "  rects = ax.bar(x + (i - 1) * width, mean_throughputs[label], width, label=label)\n",
    "\n",
    "ax.legend()\n",
    "fig.tight_layout()\n",
    "plt.show()"
   ]
  },
  {
   "cell_type": "code",
   "execution_count": null,
   "id": "25a93694",
   "metadata": {},
   "outputs": [
    {
     "data": {
      "text/html": [
       "<div>\n",
       "<style scoped>\n",
       "    .dataframe tbody tr th:only-of-type {\n",
       "        vertical-align: middle;\n",
       "    }\n",
       "\n",
       "    .dataframe tbody tr th {\n",
       "        vertical-align: top;\n",
       "    }\n",
       "\n",
       "    .dataframe thead th {\n",
       "        text-align: right;\n",
       "    }\n",
       "</style>\n",
       "<table border=\"1\" class=\"dataframe\">\n",
       "  <thead>\n",
       "    <tr style=\"text-align: right;\">\n",
       "      <th>Method</th>\n",
       "      <th>PyProj</th>\n",
       "      <th>cuProj (device data)</th>\n",
       "      <th>cuProj (host data)</th>\n",
       "    </tr>\n",
       "    <tr>\n",
       "      <th>Grid size (points)</th>\n",
       "      <th></th>\n",
       "      <th></th>\n",
       "      <th></th>\n",
       "    </tr>\n",
       "  </thead>\n",
       "  <tbody>\n",
       "    <tr>\n",
       "      <th>100</th>\n",
       "      <td>6.456583e+06</td>\n",
       "      <td>4.767634e+06</td>\n",
       "      <td>2.009619e+06</td>\n",
       "    </tr>\n",
       "    <tr>\n",
       "      <th>1000</th>\n",
       "      <td>8.490731e+06</td>\n",
       "      <td>4.249830e+07</td>\n",
       "      <td>1.838139e+07</td>\n",
       "    </tr>\n",
       "    <tr>\n",
       "      <th>10000</th>\n",
       "      <td>8.415854e+06</td>\n",
       "      <td>4.249423e+08</td>\n",
       "      <td>1.640383e+08</td>\n",
       "    </tr>\n",
       "    <tr>\n",
       "      <th>100000</th>\n",
       "      <td>8.414452e+06</td>\n",
       "      <td>4.053401e+09</td>\n",
       "      <td>5.901236e+08</td>\n",
       "    </tr>\n",
       "    <tr>\n",
       "      <th>1000000</th>\n",
       "      <td>8.379849e+06</td>\n",
       "      <td>1.988196e+10</td>\n",
       "      <td>8.654184e+08</td>\n",
       "    </tr>\n",
       "    <tr>\n",
       "      <th>10000000</th>\n",
       "      <td>8.180662e+06</td>\n",
       "      <td>3.182774e+10</td>\n",
       "      <td>7.743423e+08</td>\n",
       "    </tr>\n",
       "    <tr>\n",
       "      <th>100000000</th>\n",
       "      <td>8.186607e+06</td>\n",
       "      <td>3.167794e+10</td>\n",
       "      <td>6.646177e+08</td>\n",
       "    </tr>\n",
       "    <tr>\n",
       "      <th>1000000000</th>\n",
       "      <td>8.189200e+06</td>\n",
       "      <td>3.327126e+10</td>\n",
       "      <td>6.528686e+08</td>\n",
       "    </tr>\n",
       "  </tbody>\n",
       "</table>\n",
       "</div>"
      ],
      "text/plain": [
       "Method                    PyProj  cuProj (device data)  cuProj (host data)\n",
       "Grid size (points)                                                        \n",
       "100                 6.456583e+06          4.767634e+06        2.009619e+06\n",
       "1000                8.490731e+06          4.249830e+07        1.838139e+07\n",
       "10000               8.415854e+06          4.249423e+08        1.640383e+08\n",
       "100000              8.414452e+06          4.053401e+09        5.901236e+08\n",
       "1000000             8.379849e+06          1.988196e+10        8.654184e+08\n",
       "10000000            8.180662e+06          3.182774e+10        7.743423e+08\n",
       "100000000           8.186607e+06          3.167794e+10        6.646177e+08\n",
       "1000000000          8.189200e+06          3.327126e+10        6.528686e+08"
      ]
     },
     "execution_count": 31,
     "metadata": {},
     "output_type": "execute_result"
    }
   ],
   "source": [
    "import pandas as pd\n",
    "\n",
    "# display a data table of the mean throughputs\n",
    "# for each of the 3 methods\n",
    "df = pd.DataFrame(mean_throughputs, index=num_points)\n",
    "df.index.name = 'Grid size (points)'\n",
    "df.columns.name = 'Method'\n",
    "df"
   ]
  },
  {
   "cell_type": "code",
   "execution_count": null,
   "id": "36ded72f",
   "metadata": {},
   "outputs": [
    {
     "name": "stdout",
     "output_type": "stream",
     "text": [
      "cuProj Speedup for 1,000,000,000 points: 4062.82x\n"
     ]
    }
   ],
   "source": [
    "# compute peak speedup\n",
    "n = format(num_points[-1], ',')\n",
    "print(f\"cuProj Speedup for {n} points: {mean_throughputs['cuProj (device data)'][-1] / mean_throughputs['PyProj'][-1] :.2f}x\")\n"
   ]
  }
 ],
 "metadata": {
  "kernelspec": {
   "display_name": "Python 3 (ipykernel)",
   "language": "python",
   "name": "python3"
  },
  "language_info": {
   "codemirror_mode": {
    "name": "ipython",
    "version": 3
   },
   "file_extension": ".py",
   "mimetype": "text/x-python",
   "name": "python",
   "nbconvert_exporter": "python",
   "pygments_lexer": "ipython3",
   "version": "3.10.12"
  }
 },
 "nbformat": 4,
 "nbformat_minor": 5
}
