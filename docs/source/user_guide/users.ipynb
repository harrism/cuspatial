{
 "cells": [
  {
   "cell_type": "markdown",
   "id": "ff28b0e7-b5d3-4f7c-bce9-e63b1bef41e8",
   "metadata": {},
   "source": [
    "# cuspatial python User's Guide\n",
    "\n",
<<<<<<< Updated upstream
    "cuspatial lets developers take advantage of extremely high performance spatial algorithms\n",
    "by leveraging CUDA-enabled GPUs.\n",
    "\n",
    "# Installing cuspatial\n",
    "\n",
    "Read the [RAPIDS Quickstart Guide](\n",
    "https://rapids.ai/start.html     ) to learn how to install all RAPIDS libraries,\n",
    "including cuspatial. It is best to install cuspatial using the [RAPIDS Release Selector](\n",
=======
    "cuspatial lets developers take advantage of extremely high performance spatial algorithms by  \n",
    "leveraging CUDA-enabled GPUs.\n",
    "\n",
    "## Installing cuspatial\n",
    "\n",
    "Read the [RAPIDS Quickstart Guide](\n",
    "https://rapids.ai/start.html     ) to learn how to install all RAPIDS libraries, including cuspatial.  \n",
    "It is best to install cuspatial using the [RAPIDS Release Selector](\n",
>>>>>>> Stashed changes
    "https://rapids.ai/start.html#get-rapids).\n",
    "\n",
    "Install a local docker image:\n",
    "\n",
    "```bash\n",
    "docker pull rapidsai/rapidsai-core:22.06-cuda11.5-runtime-ubuntu20.04-py3.9\n",
    "docker run --gpus all --rm -it \\\n",
    "    --shm-size=1g --ulimit memlock=-1 \\\n",
    "    -p 8888:8888 -p 8787:8787 -p 8786:8786 \\\n",
    "    rapidsai/rapidsai-core:22.06-cuda11.5-runtime-ubuntu20.04-py3.9\n",
    "```\n",
    "\n",
    "or use conda:\n",
    "\n",
    "```bash\n",
    "conda create -n rapids-22.06 -c rapidsai -c nvidia -c conda-forge  \\\n",
    "    cuspatial=22.06 python=3.9 cudatoolkit=11.5\n",
    "```\n",
    "\n",
<<<<<<< Updated upstream
    "If you wish to contribute to cuspatial, you should create a source build using the\n",
    "excellent [rapids-compose](\n",
    "https://github.com/trxcllnt/rapids-compose).\n",
    "\n",
    "\n",
    "# GPU Accelerated Memory Layout\n",
    "\n",
    "cuspatial uses `GeoArrow` buffers, a GPU-accelerated buffer type format that makes\n",
    "the performance you get with cuspatial possible. See [I/O](#io) on the fastest methods to\n",
    "get your data into cuspatial. GeoArrow uses [PyArrow](\n",
    "https://arrow.apache.org/docs/python/index.html       ) bindings and types\n",
    "for storing data. GeoArrow supports [ListArrays](\n",
    "https://arrow.apache.org/docs/python/data.html#arrays) for `Points`, `MultiPoints`,\n",
    "`LineStrings`, `MultiLineStrings`, `Polygons`, and `MultiPolygons`. Using an Arrow [DenseArray](\n",
=======
    "If you wish to contribute to cuspatial, you should create a source build using the excellent  \n",
    "[rapids-compose](https://github.com/trxcllnt/rapids-compose).\n",
    "\n",
    "\n",
    "## GPU Accelerated Memory Layout\n",
    "\n",
    "cuspatial uses `GeoArrow` buffers, a GPU-accelerated buffer type format that makes the  \n",
    "performance you get with cuspatial possible. See [I/O](#io) on the fastest methods to  \n",
    "get your data into cuspatial. GeoArrow uses [PyArrow](\n",
    "https://arrow.apache.org/docs/python/index.html       ) bindings and types for storing data.  \n",
    "GeoArrow supports [ListArrays](\n",
    "https://arrow.apache.org/docs/python/data.html#arrays) for `Points`, `MultiPoints`,\n",
    "`LineStrings`, `MultiLineStrings`,  \n",
    "`Polygons`, and `MultiPolygons`. Using an Arrow [DenseArray](\n",
>>>>>>> Stashed changes
    "https://arrow.apache.org/docs/python/data.html#union-arrays),\n",
    "GeoArrow stores heterogeneous orderings of Features, similar to the [GeoSeries](\n",
    "https://geopandas.org/en/stable/docs/reference/api/geopandas.GeoSeries.html     ) used\n",
    "in [GeoPandas](\n",
    "https://geopandas.org/en/stable/index.html)."
   ]
  },
  {
   "cell_type": "markdown",
   "id": "e6bb6bb7-d6ff-42bc-a564-d57ca19face2",
   "metadata": {},
   "source": [
    "## Source layout\n",
    "\n",
    "The source code is layed out in a logical module structure by function.\n",
    "\n",
    "```\n",
    "cuspatial/core/\n",
    "               geodataframe.py # cudf dataframe operations\n",
    "               geoseries.py    # cudf series operations\n",
    "               interpolate.py  # cubic spline curve interpolation\n",
    "               trajectory.py   # derive, distances and speeds, and bounding boxes\n",
    "               spatial/\n",
    "                       bounding.py   # polygon and polyline bounding boxes\n",
<<<<<<< Updated upstream
    "                       distance.py   # hausdorff, haversine, and pairwise linestring\n",
    "                                     # distances\n",
    "                       filtering.py  # points in spatial window\n",
    "                       indexing.py   # quadtree generation\n",
    "                       join.py       # point in polygon (pip), pip quadtree, point to\n",
    "                                     # nearest line segment.\n",
=======
    "                       distance.py   # hausdorff, haversine, and pairwise\n",
    "                                     # linestring distances\n",
    "                       filtering.py  # points in spatial window\n",
    "                       indexing.py   # quadtree generation\n",
    "                       join.py       # point in polygon (pip), pip quadtree,\n",
    "                                     # point to nearest line segment.\n",
>>>>>>> Stashed changes
    "                       projection.py # lonlat to cartesian coordinates\n",
    "cuspatial/io/\n",
    "             geopandas.py        # to_geopandas and from_geopandas\n",
    "             geopandas_reader.py # convert geopandas to GeoArrow\n",
    "             pygeoarrow.py       # GeoArrow objects\n",
    "             shapefile.py        # fast shapefile reader to GeoArrow\n",
    "```"
   ]
  },
  {
   "cell_type": "markdown",
   "id": "4b1251d1-558a-4899-8e7a-8066db0ad091",
   "metadata": {},
   "source": [
<<<<<<< Updated upstream
    "# I/O\n",
    "\n",
    "cuspatial supports two modes of loading Feature coordinates. [cuspatial.read_polygon_shapefile](\n",
    "https://docs.rapids.ai/api/cuspatial/stable/api_docs/io.html#cuspatial.read_polygon_shapefile)\n",
    "loads a `Polygon`-only shapefile from disk. It uses GPU acceleration and can read hundreds\n",
    "of megabytes of `Polygon` information in milliseconds."
=======
    "## I/O\n",
    "\n",
    "cuspatial supports two modes of loading Feature coordinates. [cuspatial.read_polygon_shapefile](\n",
    "https://docs.rapids.ai/api/cuspatial/stable/api_docs/io.html#cuspatial.read_polygon_shapefile)  \n",
    "loads a `Polygon`-only shapefile from disk. It uses GPU acceleration and can read hundreds  \n",
    "of megabytes of `Polygon` information in milliseconds.\n",
    "\n",
    "Examples of cuspatial's I/O functionality in the below cells:"
>>>>>>> Stashed changes
   ]
  },
  {
   "cell_type": "code",
<<<<<<< Updated upstream
   "execution_count": 49,
=======
   "execution_count": 79,
>>>>>>> Stashed changes
   "id": "82666bcf-e4b1-4e52-a666-a99e2ddd2a05",
   "metadata": {},
   "outputs": [],
   "source": [
    "import cuspatial\n",
    "import cudf\n",
    "import cupy\n",
    "import geopandas\n",
    "import numpy as np"
   ]
  },
  {
   "cell_type": "code",
<<<<<<< Updated upstream
   "execution_count": 50,
=======
   "execution_count": 83,
>>>>>>> Stashed changes
   "id": "e8f38524-e89f-4d86-b58a-63057cab6b60",
   "metadata": {},
   "outputs": [
    {
     "name": "stdout",
     "output_type": "stream",
     "text": [
      "0     0\n",
      "1     3\n",
      "2     4\n",
      "3     5\n",
      "4    35\n",
      "Name: f_pos, dtype: int32\n",
      "0     0\n",
      "1     8\n",
      "2    17\n",
      "3    22\n",
      "4    74\n",
      "Name: r_pos, dtype: int32\n",
      "            x          y\n",
      "0  180.000000 -16.067133\n",
      "1  180.000000 -16.555217\n",
      "2  179.364143 -16.801354\n",
      "3  178.725059 -17.012042\n",
      "4  178.596839 -16.639150\n"
     ]
    }
   ],
   "source": [
<<<<<<< Updated upstream
    "# The following formula provides easy to access data for cuspatial, you'll see it again.\n",
    "host_dataframe = geopandas.read_file(geopandas.datasets.get_path(\"naturalearth_lowres\"))\n",
    "host_dataframe[\"geometry\"].to_file(\"test_file\")\n",
    "# This demonstrates using `read_polygon_shapefile` as discussed above.\n",
    "geometry_offsets, ring_offsets, points = cuspatial.read_polygon_shapefile(\"test_file\")\n",
=======
    "# The following formula provides easy to access data for this demo notebook, you'll see\n",
    "# it again.\n",
    "host_dataframe = geopandas.read_file(geopandas.datasets.get_path(\n",
    "    \"naturalearth_lowres\"\n",
    "))\n",
    "# Write the file to a shapefile to demonstrate `read_polygon_shapefile`.\n",
    "host_dataframe[\"geometry\"].to_file(\"test_file\")\n",
    "# This demonstrates using `read_polygon_shapefile` as discussed above.\n",
    "geometry_offsets, ring_offsets, points = cuspatial.read_polygon_shapefile(\n",
    "    \"test_file\"\n",
    ")\n",
>>>>>>> Stashed changes
    "print(geometry_offsets.head())\n",
    "print(ring_offsets.head())\n",
    "print(points.head())"
   ]
  },
  {
   "cell_type": "markdown",
   "id": "4281cb89-3a31-4b99-9dc4-be4f8b0fde69",
   "metadata": {},
   "source": [
<<<<<<< Updated upstream
    "The result of `cuspatial.read_polygon_shapefile` is a `Tuple` of GeoArrow buffers that\n",
    "can be converted into a `cuspatial.GeoSeries` or used directly with other interface methods.  "
=======
    "The result of `cuspatial.read_polygon_shapefile` is a `Tuple` of GeoArrow buffers that can be  \n",
    "converted into a `cuspatial.GeoSeries` or used directly with other interface methods.  "
>>>>>>> Stashed changes
   ]
  },
  {
   "cell_type": "code",
   "execution_count": 51,
   "id": "614d508f-0e6b-4f46-ae58-1877fa1c91d1",
   "metadata": {},
   "outputs": [
    {
     "data": {
      "text/plain": [
       "0    POLYGON ((180.00000 -16.06713, 180.00000 -16.5...\n",
       "1    POLYGON ((33.90371 -0.95000, 34.07262 -1.05982...\n",
       "2    POLYGON ((-8.66559 27.65643, -8.66512 27.58948...\n",
       "3    POLYGON ((-122.84000 49.00000, -122.97421 49.0...\n",
       "4    POLYGON ((-122.84000 49.00000, -120.00000 49.0...\n",
       "dtype: geometry"
      ]
     },
     "execution_count": 51,
     "metadata": {},
     "output_type": "execute_result"
    }
   ],
   "source": [
    "gpu_series = cuspatial.GeoSeries((geometry_offsets, ring_offsets, points))\n",
    "gpu_series.head()"
   ]
  },
  {
   "cell_type": "markdown",
   "id": "11b973bd-87e1-4b67-ab8c-23c3b8291335",
   "metadata": {},
   "source": [
    "If you need other geometry types, the easiest way to get data into cuspatial is via\n",
    "our GeoPandas interface:"
   ]
  },
  {
   "cell_type": "code",
<<<<<<< Updated upstream
   "execution_count": 52,
=======
   "execution_count": 85,
>>>>>>> Stashed changes
   "id": "255fbfbe-8be1-498c-9a26-f4a3f31bdded",
   "metadata": {},
   "outputs": [
    {
<<<<<<< Updated upstream
     "data": {
      "text/html": [
       "<div>\n",
       "<style scoped>\n",
       "    .dataframe tbody tr th:only-of-type {\n",
       "        vertical-align: middle;\n",
       "    }\n",
       "\n",
       "    .dataframe tbody tr th {\n",
       "        vertical-align: top;\n",
       "    }\n",
       "\n",
       "    .dataframe thead th {\n",
       "        text-align: right;\n",
       "    }\n",
       "</style>\n",
       "<table border=\"1\" class=\"dataframe\">\n",
       "  <thead>\n",
       "    <tr style=\"text-align: right;\">\n",
       "      <th></th>\n",
       "      <th>pop_est</th>\n",
       "      <th>continent</th>\n",
       "      <th>name</th>\n",
       "      <th>iso_a3</th>\n",
       "      <th>gdp_md_est</th>\n",
       "      <th>geometry</th>\n",
       "    </tr>\n",
       "  </thead>\n",
       "  <tbody>\n",
       "    <tr>\n",
       "      <th>0</th>\n",
       "      <td>889953.0</td>\n",
       "      <td>Oceania</td>\n",
       "      <td>Fiji</td>\n",
       "      <td>FJI</td>\n",
       "      <td>5496</td>\n",
       "      <td>MULTIPOLYGON (((180.00000 -16.06713, 180.00000...</td>\n",
       "    </tr>\n",
       "    <tr>\n",
       "      <th>1</th>\n",
       "      <td>58005463.0</td>\n",
       "      <td>Africa</td>\n",
       "      <td>Tanzania</td>\n",
       "      <td>TZA</td>\n",
       "      <td>63177</td>\n",
       "      <td>POLYGON ((33.90371 -0.95000, 34.07262 -1.05982...</td>\n",
       "    </tr>\n",
       "    <tr>\n",
       "      <th>2</th>\n",
       "      <td>603253.0</td>\n",
       "      <td>Africa</td>\n",
       "      <td>W. Sahara</td>\n",
       "      <td>ESH</td>\n",
       "      <td>907</td>\n",
       "      <td>POLYGON ((-8.66559 27.65643, -8.66512 27.58948...</td>\n",
       "    </tr>\n",
       "    <tr>\n",
       "      <th>3</th>\n",
       "      <td>37589262.0</td>\n",
       "      <td>North America</td>\n",
       "      <td>Canada</td>\n",
       "      <td>CAN</td>\n",
       "      <td>1736425</td>\n",
       "      <td>MULTIPOLYGON (((-122.84000 49.00000, -122.9742...</td>\n",
       "    </tr>\n",
       "    <tr>\n",
       "      <th>4</th>\n",
       "      <td>328239523.0</td>\n",
       "      <td>North America</td>\n",
       "      <td>United States of America</td>\n",
       "      <td>USA</td>\n",
       "      <td>21433226</td>\n",
       "      <td>MULTIPOLYGON (((-122.84000 49.00000, -120.0000...</td>\n",
       "    </tr>\n",
       "  </tbody>\n",
       "</table>\n",
       "</div>"
      ],
      "text/plain": [
       "       pop_est      continent                      name iso_a3  gdp_md_est  \\\n",
       "0     889953.0        Oceania                      Fiji    FJI        5496   \n",
       "1   58005463.0         Africa                  Tanzania    TZA       63177   \n",
       "2     603253.0         Africa                 W. Sahara    ESH         907   \n",
       "3   37589262.0  North America                    Canada    CAN     1736425   \n",
       "4  328239523.0  North America  United States of America    USA    21433226   \n",
       "\n",
       "                                            geometry  \n",
       "0  MULTIPOLYGON (((180.00000 -16.06713, 180.00000...  \n",
       "1  POLYGON ((33.90371 -0.95000, 34.07262 -1.05982...  \n",
       "2  POLYGON ((-8.66559 27.65643, -8.66512 27.58948...  \n",
       "3  MULTIPOLYGON (((-122.84000 49.00000, -122.9742...  \n",
       "4  MULTIPOLYGON (((-122.84000 49.00000, -120.0000...  \n",
       "(GPU)"
      ]
     },
     "execution_count": 52,
     "metadata": {},
     "output_type": "execute_result"
    }
   ],
   "source": [
    "host_dataframe = geopandas.read_file(geopandas.datasets.get_path(\"naturalearth_lowres\"))\n",
    "gpu_dataframe = cuspatial.from_geopandas(host_dataframe)\n",
    "gpu_dataframe.head()"
=======
     "name": "stdout",
     "output_type": "stream",
     "text": [
      "       pop_est      continent                      name iso_a3  gdp_md_est  \\\n",
      "0     889953.0        Oceania                      Fiji    FJI        5496   \n",
      "1   58005463.0         Africa                  Tanzania    TZA       63177   \n",
      "2     603253.0         Africa                 W. Sahara    ESH         907   \n",
      "3   37589262.0  North America                    Canada    CAN     1736425   \n",
      "4  328239523.0  North America  United States of America    USA    21433226   \n",
      "\n",
      "                                            geometry  \n",
      "0  MULTIPOLYGON (((180.00000 -16.06713, 180.00000...  \n",
      "1  POLYGON ((33.90371 -0.95000, 34.07262 -1.05982...  \n",
      "2  POLYGON ((-8.66559 27.65643, -8.66512 27.58948...  \n",
      "3  MULTIPOLYGON (((-122.84000 49.00000, -122.9742...  \n",
      "4  MULTIPOLYGON (((-122.84000 49.00000, -120.0000...  \n",
      "(GPU)\n",
      "\n"
     ]
    }
   ],
   "source": [
    "host_dataframe = geopandas.read_file(geopandas.datasets.get_path(\n",
    "    \"naturalearth_lowres\"\n",
    "))\n",
    "gpu_dataframe = cuspatial.from_geopandas(host_dataframe)\n",
    "print(gpu_dataframe.head())"
>>>>>>> Stashed changes
   ]
  },
  {
   "cell_type": "markdown",
   "id": "da5c775b-7458-4e3c-a573-e1bd060e3365",
   "metadata": {},
   "source": [
<<<<<<< Updated upstream
    "# Geopandas and cudf integration\n",
=======
    "## Geopandas and cudf integration\n",
>>>>>>> Stashed changes
    "\n",
    "A cuspatial [GeoDataFrame](\n",
    "https://docs.rapids.ai/api/cuspatial/stable/api_docs/geopandas_compatibility.html#cuspatial.GeoDataFrame               ) is a collection of [cudf](\n",
    "https://docs.rapids.ai/api/cudf/stable/              ) [Series](\n",
    "https://docs.rapids.ai/api/cudf/stable/api_docs/series.html    ) data types and\n",
    "[cuspatial.GeoSeries](\n",
    "https://docs.rapids.ai/api/cuspatial/stable/api_docs/geopandas_compatibility.html#cuspatial.GeoSeries             ) `\"geometry\"` dtypes. Both columns are stored on the GPU, with\n",
    "`GeoSeries` being represented under the hood with `GeoArrow`.\n",
    "\n",
    "One of the most important features of cuspatial is that it is highly integrated with `cudf`.  \n",
    "You can use any `cudf` operation on cuspatial metadata columns, and most row 1:1 operations  will work with a `geometry` column."
   ]
  },
  {
   "cell_type": "code",
   "execution_count": 53,
   "id": "956451e2-a520-441d-a939-575ed179917b",
   "metadata": {},
   "outputs": [
    {
     "name": "stdout",
     "output_type": "stream",
     "text": [
      "        pop_est      continent             name iso_a3  gdp_md_est  \\\n",
      "1    58005463.0         Africa         Tanzania    TZA       63177   \n",
      "2      603253.0         Africa        W. Sahara    ESH         907   \n",
      "11   86790567.0         Africa  Dem. Rep. Congo    COD       50400   \n",
      "12   10192317.3         Africa          Somalia    SOM        4719   \n",
      "13   52573973.0         Africa            Kenya    KEN       95503   \n",
      "..          ...            ...              ...    ...         ...   \n",
      "40   28515829.0  South America        Venezuela    VEN      482359   \n",
      "41     782766.0  South America           Guyana    GUY        5173   \n",
      "42     581363.0  South America         Suriname    SUR        3697   \n",
      "44   17373662.0  South America          Ecuador    ECU      107435   \n",
      "156   7044636.0  South America         Paraguay    PRY       38145   \n",
      "\n",
      "                                              geometry  \n",
      "1    POLYGON ((33.90371 -0.95000, 34.07262 -1.05982...  \n",
      "2    POLYGON ((-8.66559 27.65643, -8.66512 27.58948...  \n",
      "11   POLYGON ((29.34000 -4.49998, 29.51999 -5.41998...  \n",
      "12   POLYGON ((41.58513 -1.68325, 40.99300 -0.85829...  \n",
      "13   POLYGON ((39.20222 -4.67677, 37.76690 -3.67712...  \n",
      "..                                                 ...  \n",
      "40   POLYGON ((-60.73357 5.20028, -60.60118 4.91810...  \n",
      "41   POLYGON ((-56.53939 1.89952, -56.78270 1.86371...  \n",
      "42   POLYGON ((-54.52475 2.31185, -55.09759 2.52375...  \n",
      "44   POLYGON ((-75.37322 -0.15203, -75.23372 -0.911...  \n",
      "156  POLYGON ((-58.16639 -20.17670, -57.87067 -20.7...  \n",
      "\n",
      "[177 rows x 6 columns]\n",
      "(GPU)\n",
      "\n"
     ]
    }
   ],
   "source": [
    "host_dataframe = geopandas.read_file(geopandas.datasets.get_path(\"naturalearth_lowres\"))\n",
    "gpu_dataframe = cuspatial.from_geopandas(host_dataframe)\n",
    "continents_dataframe = gpu_dataframe.sort_values(\"continent\")\n",
    "print(continents_dataframe)"
   ]
  },
  {
   "cell_type": "markdown",
   "id": "5453f308-317f-4775-ba3c-ff0633755bc4",
   "metadata": {},
   "source": [
    "Though the operations will run on your CPU and lose GPU efficiency, you can also convert\n",
    "between GPU-backed `cuspatial.GeoDataFrame` and host-backed `geopandas.GeoDataFrame` with\n",
    "`from_geopandas` and `to_geopandas`, enabling you to take advantage of any native GeoPandas\n",
    "operation. The following example displays the `Polygon` associated with the first item in\n",
    "the dataframe sorted alphabetically by name."
   ]
  },
  {
   "cell_type": "code",
   "execution_count": 54,
   "id": "cd8d1c39-b44f-4d06-9e11-04c2dca4cf15",
   "metadata": {},
   "outputs": [
    {
     "data": {
      "image/svg+xml": [
       "<svg xmlns=\"http://www.w3.org/2000/svg\" xmlns:xlink=\"http://www.w3.org/1999/xlink\" width=\"100.0\" height=\"100.0\" viewBox=\"59.94324588403841 28.733388576771137 15.799965820375682 10.338076985718448\" preserveAspectRatio=\"xMinYMin meet\"><g transform=\"matrix(1,0,0,-1,0,67.80485413926073)\"><path fill-rule=\"evenodd\" fill=\"#66cc99\" stroke=\"#555555\" stroke-width=\"0.31599931640751366\" opacity=\"0.6\" d=\"M 66.51860680528867,37.36278432875879 L 67.07578209825962,37.35614390720929 L 67.82999962755952,37.144994004864685 L 68.13556237170138,37.02311513930431 L 68.85944583524594,37.344335842430596 L 69.19627282092438,37.15114350030743 L 69.51878543485796,37.60899669041342 L 70.11657840361033,37.58822276463209 L 70.27057417184014,37.735164699854025 L 70.3763041523093,38.13839590102752 L 70.80682050973289,38.486281643216415 L 71.34813113799026,38.25890534113216 L 71.23940392444817,37.953265082341886 L 71.54191775908478,37.905774441065645 L 71.44869347523024,37.06564484308052 L 71.8446382994506,36.73817129164692 L 72.1930408059624,36.948287665345674 L 72.63688968291729,37.047558091778356 L 73.26005577992501,37.495256862939 L 73.9486959166465,37.4215662704908 L 74.98000247589542,37.419990139305895 L 75.15802778514092,37.13303091078912 L 74.57589277537298,37.02084137628346 L 74.06755171091783,36.83617564548845 L 72.92002485544447,36.72000702569632 L 71.84629194528392,36.50994232842986 L 71.26234826038575,36.074387518857804 L 71.49876793812109,35.650563259416 L 71.61307620635071,35.153203436822864 L 71.11501875192164,34.733125718722235 L 71.15677330921346,34.34891144463215 L 70.8818030129884,33.98885590263852 L 69.9305432473596,34.02012014417511 L 70.3235941913716,33.35853261975839 L 69.68714725126486,33.105498969041236 L 69.26252200712256,32.5019440780883 L 69.31776411324256,31.901412258424443 L 68.92667687365767,31.620189113892067 L 68.55693200060932,31.713310044882018 L 67.79268924344478,31.58293040620963 L 67.68339358914747,31.30315420178142 L 66.93889122911847,31.304911200479353 L 66.38145755398602,30.738899237586452 L 66.34647260932442,29.887943427036177 L 65.0468620136161,29.472180691031905 L 64.35041873561852,29.560030625928093 L 64.14800215033125,29.340819200145972 L 63.55026085801117,29.468330796826166 L 62.54985680527278,29.31857249604431 L 60.87424848820879,29.829238999952608 L 61.781221551363444,30.735850328081238 L 61.69931440618083,31.379506130492672 L 60.94194461451113,31.548074652628753 L 60.863654819588966,32.18291962333443 L 60.536077915290775,32.98126882581157 L 60.963700392506006,33.52883230237626 L 60.52842980331158,33.676446031218006 L 60.80319339380745,34.40410187431986 L 61.210817091725744,35.650072333309225 L 62.230651483005886,35.270663967422294 L 62.98466230657661,35.40404083916762 L 63.19353844590035,35.857165635718914 L 63.98289594915871,36.0079574651466 L 64.5464791197339,36.31207326918427 L 64.7461051776774,37.111817735333304 L 65.58894778835784,37.30521678318564 L 65.74563073106683,37.66116404881207 L 66.21738488145934,37.39379018813392 L 66.51860680528867,37.36278432875879 z\" /></g></svg>"
      ],
      "text/plain": [
       "<shapely.geometry.polygon.Polygon at 0x7f1c421bac70>"
      ]
     },
     "execution_count": 54,
     "metadata": {},
     "output_type": "execute_result"
    }
   ],
   "source": [
    "host_dataframe = geopandas.read_file(geopandas.datasets.get_path(\"naturalearth_lowres\"))\n",
    "gpu_dataframe = cuspatial.from_geopandas(host_dataframe)\n",
    "sorted_dataframe = gpu_dataframe.sort_values(\"name\")\n",
    "host_dataframe = sorted_dataframe.to_geopandas()\n",
    "host_dataframe['geometry'].iloc[0]"
   ]
  },
  {
   "cell_type": "markdown",
   "id": "57b5033f-ee4f-492e-b8ca-d69cb1a3fddb",
   "metadata": {},
   "source": [
<<<<<<< Updated upstream
    "# Spatial joins\n",
=======
    "## Spatial joins\n",
>>>>>>> Stashed changes
    "\n",
    "cuspatial supports high-performance spatial joins. The API surface for spatial joins does\n",
    "not yet map to GeoPandas, but with knowledge of our underlying data formats you can call\n",
    "`cuspatial.point_in_polygon` for large numbers of points on 32 polygons or less, or call\n",
    "`cuspatial.point_in_polygon_quadtree` for large numbers of points and polygons.\n",
    "\n",
    "See the example below in *Indexing* to use `point_in_polygon_quadtree`."
   ]
  },
  {
   "cell_type": "code",
   "execution_count": 55,
   "id": "e9836522-8a8e-4fe1-8687-4f8d2335259c",
   "metadata": {},
   "outputs": [
    {
     "data": {
      "text/plain": [
       "0       221\n",
       "1     11695\n",
       "2      1318\n",
       "3    264305\n",
       "4    174055\n",
       "dtype: int64"
      ]
     },
     "execution_count": 55,
     "metadata": {},
     "output_type": "execute_result"
    }
   ],
   "source": [
    "host_dataframe = geopandas.read_file(geopandas.datasets.get_path(\"naturalearth_lowres\"))\n",
    "gpu_dataframe = cuspatial.from_geopandas(host_dataframe)\n",
    "x_points = (cupy.random.random(10000000) - 0.5) * 360\n",
    "y_points = (cupy.random.random(10000000) - 0.5) * 180\n",
    "\n",
    "short_dataframe = gpu_dataframe.iloc[0:32]\n",
    "geometry = short_dataframe['geometry']\n",
    "points_in_polygon = cuspatial.point_in_polygon(\n",
    "    x_points,\n",
    "    y_points,\n",
    "    geometry.polygons.geometry_offset[0:31],\n",
    "    geometry.polygons.ring_offset,\n",
    "    geometry.polygons.x,\n",
    "    geometry.polygons.y\n",
    ")\n",
    "sum_of_points_in_polygons_0_to_31 = points_in_polygon.sum()\n",
    "sum_of_points_in_polygons_0_to_31.head()"
   ]
  },
  {
   "cell_type": "markdown",
   "id": "9a362c03-bfaf-4790-9608-e6415511cb48",
   "metadata": {},
   "source": [
    "cuspatial includes another join algorithm, `point_in_polygon_quadtree` that uses an indexing quadtree for faster calculations. `point_in_polygon_quadtree` also supports a number of polygons limited only by memory constraints. See the example of using it in the `Indexing` section below."
   ]
  },
  {
   "cell_type": "markdown",
   "id": "56b80722-38b6-457c-a7f0-591af6efd3ff",
   "metadata": {},
   "source": [
<<<<<<< Updated upstream
    "# Trajectories\n",
=======
    "## Trajectories\n",
>>>>>>> Stashed changes
    "\n",
    "Libraries have been developed to make trajectory analysis faster and easier.  Use `cuspatial.trajectory.derive_trajectories` to group unsorted trajectory datasets and sort by time."
   ]
  },
  {
   "cell_type": "code",
   "execution_count": 5,
   "id": "cb5acdad-53aa-418f-9948-8445515bd2b2",
   "metadata": {},
   "outputs": [
    {
     "name": "stdout",
     "output_type": "stream",
     "text": [
      "   object_id         x         y               timestamp\n",
      "0          1  0.666984  0.852868 1970-01-01 00:00:01.424\n",
      "1          1  0.028379  0.118899 1970-01-01 00:00:19.665\n",
      "2          1  0.262122  0.072095 1970-01-01 00:00:28.932\n",
      "3          1  0.791835  0.808378 1970-01-01 00:00:41.109\n",
      "4          1  0.531682  0.210471 1970-01-01 00:00:52.936\n",
      "0         0\n",
      "1        29\n",
      "2        59\n",
      "3        80\n",
      "4       100\n",
      "       ... \n",
      "394    9876\n",
      "395    9891\n",
      "396    9919\n",
      "397    9946\n",
      "398    9975\n",
      "Length: 399, dtype: int32\n"
     ]
    }
   ],
   "source": [
    "ids = cupy.random.randint(1, 400, 10000)\n",
    "timestamps = cupy.random.random(10000)*1000000\n",
    "x = cupy.random.random(10000)\n",
    "y = cupy.random.random(10000)\n",
    "sorted_trajectories, trajectory_offsets = cuspatial.core.trajectory.derive_trajectories(ids, x, y, timestamps)\n",
    "print(sorted_trajectories.head())\n",
    "print(trajectory_offsets)"
   ]
  },
  {
   "cell_type": "markdown",
   "id": "3c4a90f9-8661-4fda-9026-473e6ce87bd2",
   "metadata": {},
   "source": [
    "`derive_trajectories` effectively sorts the trajectories by `object_id`, then `timestamp`, then returns a tuple containing the sorted trajectory data frame in the first index position and the offsets buffer defining the start and stop of each trajectory in the second index position.\n",
    "\n",
    "Use `trajectory_distance_and_speed` to calculate the overall distance travelled in meters and the speed of a set of trajectories with the same format as the result returned by `derive_trajectories`."
   ]
  },
  {
   "cell_type": "code",
   "execution_count": 6,
   "id": "03b75847-090d-40f8-8147-cb10b900d6ec",
   "metadata": {},
   "outputs": [
    {
     "data": {
      "text/html": [
       "<div>\n",
       "<style scoped>\n",
       "    .dataframe tbody tr th:only-of-type {\n",
       "        vertical-align: middle;\n",
       "    }\n",
       "\n",
       "    .dataframe tbody tr th {\n",
       "        vertical-align: top;\n",
       "    }\n",
       "\n",
       "    .dataframe thead th {\n",
       "        text-align: right;\n",
       "    }\n",
       "</style>\n",
       "<table border=\"1\" class=\"dataframe\">\n",
       "  <thead>\n",
       "    <tr style=\"text-align: right;\">\n",
       "      <th></th>\n",
       "      <th>distance</th>\n",
       "      <th>speed</th>\n",
       "    </tr>\n",
       "    <tr>\n",
       "      <th>trajectory_id</th>\n",
       "      <th></th>\n",
       "      <th></th>\n",
       "    </tr>\n",
       "  </thead>\n",
       "  <tbody>\n",
       "    <tr>\n",
       "      <th>0</th>\n",
       "      <td>14173.347437</td>\n",
       "      <td>15.880288</td>\n",
       "    </tr>\n",
       "    <tr>\n",
       "      <th>1</th>\n",
       "      <td>15148.299038</td>\n",
       "      <td>17.056033</td>\n",
       "    </tr>\n",
       "    <tr>\n",
       "      <th>2</th>\n",
       "      <td>10404.864189</td>\n",
       "      <td>11.867362</td>\n",
       "    </tr>\n",
       "    <tr>\n",
       "      <th>3</th>\n",
       "      <td>8862.688097</td>\n",
       "      <td>10.288929</td>\n",
       "    </tr>\n",
       "    <tr>\n",
       "      <th>4</th>\n",
       "      <td>13608.657074</td>\n",
       "      <td>14.651444</td>\n",
       "    </tr>\n",
       "  </tbody>\n",
       "</table>\n",
       "</div>"
      ],
      "text/plain": [
       "                   distance      speed\n",
       "trajectory_id                         \n",
       "0              14173.347437  15.880288\n",
       "1              15148.299038  17.056033\n",
       "2              10404.864189  11.867362\n",
       "3               8862.688097  10.288929\n",
       "4              13608.657074  14.651444"
      ]
     },
     "execution_count": 6,
     "metadata": {},
     "output_type": "execute_result"
    }
   ],
   "source": [
    "d_and_s = cuspatial.core.trajectory.trajectory_distances_and_speeds(\n",
    "  len(cudf.Series(ids).unique()),\n",
    "  sorted_trajectories['object_id'],\n",
    "  sorted_trajectories['x'],\n",
    "  sorted_trajectories['y'],\n",
    "  sorted_trajectories['timestamp']\n",
    ")\n",
    "d_and_s.head()"
   ]
  },
  {
   "cell_type": "markdown",
   "id": "eeb0da7c-0bdf-49ec-8244-4165acc96074",
   "metadata": {},
   "source": [
    "Finally, compute the bounding boxes of trajectories that follow the format of the above two examples:"
   ]
  },
  {
   "cell_type": "markdown",
   "id": "4af9d319-b2b1-43f8-a4d2-39e97cd87a0e",
   "metadata": {},
   "source": [
<<<<<<< Updated upstream
    "# Bounding\n",
=======
    "## Bounding\n",
>>>>>>> Stashed changes
    "\n",
    "Compute the bounding boxes of `n` polygons or linestrings:"
   ]
  },
  {
   "cell_type": "code",
   "execution_count": 7,
   "id": "452f60cb-28cc-4ad8-8aa2-9d73e3d56ec6",
   "metadata": {},
   "outputs": [
    {
     "data": {
      "text/html": [
       "<div>\n",
       "<style scoped>\n",
       "    .dataframe tbody tr th:only-of-type {\n",
       "        vertical-align: middle;\n",
       "    }\n",
       "\n",
       "    .dataframe tbody tr th {\n",
       "        vertical-align: top;\n",
       "    }\n",
       "\n",
       "    .dataframe thead th {\n",
       "        text-align: right;\n",
       "    }\n",
       "</style>\n",
       "<table border=\"1\" class=\"dataframe\">\n",
       "  <thead>\n",
       "    <tr style=\"text-align: right;\">\n",
       "      <th></th>\n",
       "      <th>x_min</th>\n",
       "      <th>y_min</th>\n",
       "      <th>x_max</th>\n",
       "      <th>y_max</th>\n",
       "    </tr>\n",
       "  </thead>\n",
       "  <tbody>\n",
       "    <tr>\n",
       "      <th>0</th>\n",
       "      <td>0.028379</td>\n",
       "      <td>0.012425</td>\n",
       "      <td>0.992154</td>\n",
       "      <td>0.962686</td>\n",
       "    </tr>\n",
       "    <tr>\n",
       "      <th>1</th>\n",
       "      <td>0.021416</td>\n",
       "      <td>0.003859</td>\n",
       "      <td>0.871947</td>\n",
       "      <td>0.987942</td>\n",
       "    </tr>\n",
       "    <tr>\n",
       "      <th>2</th>\n",
       "      <td>0.084406</td>\n",
       "      <td>0.086409</td>\n",
       "      <td>0.984148</td>\n",
       "      <td>0.787422</td>\n",
       "    </tr>\n",
       "    <tr>\n",
       "      <th>3</th>\n",
       "      <td>0.091624</td>\n",
       "      <td>0.032693</td>\n",
       "      <td>0.983179</td>\n",
       "      <td>0.941164</td>\n",
       "    </tr>\n",
       "    <tr>\n",
       "      <th>4</th>\n",
       "      <td>0.034520</td>\n",
       "      <td>0.001853</td>\n",
       "      <td>0.921353</td>\n",
       "      <td>0.970265</td>\n",
       "    </tr>\n",
       "  </tbody>\n",
       "</table>\n",
       "</div>"
      ],
      "text/plain": [
       "      x_min     y_min     x_max     y_max\n",
       "0  0.028379  0.012425  0.992154  0.962686\n",
       "1  0.021416  0.003859  0.871947  0.987942\n",
       "2  0.084406  0.086409  0.984148  0.787422\n",
       "3  0.091624  0.032693  0.983179  0.941164\n",
       "4  0.034520  0.001853  0.921353  0.970265"
      ]
     },
     "execution_count": 7,
     "metadata": {},
     "output_type": "execute_result"
    }
   ],
   "source": [
    "bounding_boxes = cuspatial.core.trajectory.trajectory_bounding_boxes(\n",
    "  len(cudf.Series(ids, dtype=\"int32\").unique()),\n",
    "  sorted_trajectories['object_id'],\n",
    "  sorted_trajectories['x'],\n",
    "  sorted_trajectories['y']\n",
    ")\n",
    "bounding_boxes.head()"
   ]
  },
  {
   "cell_type": "code",
   "execution_count": 8,
   "id": "9266aac4-f925-4fb7-b287-5f0b795d5756",
   "metadata": {},
   "outputs": [
    {
     "data": {
      "text/html": [
       "<div>\n",
       "<style scoped>\n",
       "    .dataframe tbody tr th:only-of-type {\n",
       "        vertical-align: middle;\n",
       "    }\n",
       "\n",
       "    .dataframe tbody tr th {\n",
       "        vertical-align: top;\n",
       "    }\n",
       "\n",
       "    .dataframe thead th {\n",
       "        text-align: right;\n",
       "    }\n",
       "</style>\n",
       "<table border=\"1\" class=\"dataframe\">\n",
       "  <thead>\n",
       "    <tr style=\"text-align: right;\">\n",
       "      <th></th>\n",
       "      <th>x_min</th>\n",
       "      <th>y_min</th>\n",
       "      <th>x_max</th>\n",
       "      <th>y_max</th>\n",
       "    </tr>\n",
       "  </thead>\n",
       "  <tbody>\n",
       "    <tr>\n",
       "      <th>0</th>\n",
       "      <td>178.596839</td>\n",
       "      <td>-17.012042</td>\n",
       "      <td>180.000000</td>\n",
       "      <td>-16.067133</td>\n",
       "    </tr>\n",
       "    <tr>\n",
       "      <th>1</th>\n",
       "      <td>177.285040</td>\n",
       "      <td>-18.287990</td>\n",
       "      <td>178.718060</td>\n",
       "      <td>-17.339920</td>\n",
       "    </tr>\n",
       "    <tr>\n",
       "      <th>2</th>\n",
       "      <td>-180.000000</td>\n",
       "      <td>-16.555217</td>\n",
       "      <td>-179.793320</td>\n",
       "      <td>-16.020882</td>\n",
       "    </tr>\n",
       "    <tr>\n",
       "      <th>3</th>\n",
       "      <td>29.339998</td>\n",
       "      <td>-11.720938</td>\n",
       "      <td>40.316590</td>\n",
       "      <td>-0.950000</td>\n",
       "    </tr>\n",
       "    <tr>\n",
       "      <th>4</th>\n",
       "      <td>-17.063423</td>\n",
       "      <td>20.999752</td>\n",
       "      <td>-8.665124</td>\n",
       "      <td>27.656426</td>\n",
       "    </tr>\n",
       "  </tbody>\n",
       "</table>\n",
       "</div>"
      ],
      "text/plain": [
       "        x_min      y_min       x_max      y_max\n",
       "0  178.596839 -17.012042  180.000000 -16.067133\n",
       "1  177.285040 -18.287990  178.718060 -17.339920\n",
       "2 -180.000000 -16.555217 -179.793320 -16.020882\n",
       "3   29.339998 -11.720938   40.316590  -0.950000\n",
       "4  -17.063423  20.999752   -8.665124  27.656426"
      ]
     },
     "execution_count": 8,
     "metadata": {},
     "output_type": "execute_result"
    }
   ],
   "source": [
    "host_dataframe = geopandas.read_file(geopandas.datasets.get_path(\"naturalearth_lowres\"))\n",
    "gpu_dataframe = cuspatial.from_geopandas(host_dataframe)\n",
    "bounding_box_polygons = cuspatial.core.spatial.bounding.polygon_bounding_boxes(\n",
    "    gpu_dataframe['geometry'].polygons.part_offset,\n",
    "    gpu_dataframe['geometry'].polygons.ring_offset,\n",
    "    gpu_dataframe['geometry'].polygons.x,\n",
    "    gpu_dataframe['geometry'].polygons.y,\n",
    ")\n",
    "bounding_box_polygons.head()"
   ]
  },
  {
   "cell_type": "markdown",
   "id": "85197478-801c-4d2d-8b10-c1136d7bb15c",
   "metadata": {},
   "source": [
    "Equivalently, we can treat trajectories as Linestrings and compute the same bounding boxes from the above trajectory calculation more generally:"
   ]
  },
  {
   "cell_type": "code",
   "execution_count": 9,
   "id": "15b5bb38-702f-4360-b48c-2e49ffd650d7",
   "metadata": {},
   "outputs": [
    {
     "data": {
      "text/html": [
       "<div>\n",
       "<style scoped>\n",
       "    .dataframe tbody tr th:only-of-type {\n",
       "        vertical-align: middle;\n",
       "    }\n",
       "\n",
       "    .dataframe tbody tr th {\n",
       "        vertical-align: top;\n",
       "    }\n",
       "\n",
       "    .dataframe thead th {\n",
       "        text-align: right;\n",
       "    }\n",
       "</style>\n",
       "<table border=\"1\" class=\"dataframe\">\n",
       "  <thead>\n",
       "    <tr style=\"text-align: right;\">\n",
       "      <th></th>\n",
       "      <th>x_min</th>\n",
       "      <th>y_min</th>\n",
       "      <th>x_max</th>\n",
       "      <th>y_max</th>\n",
       "    </tr>\n",
       "  </thead>\n",
       "  <tbody>\n",
       "    <tr>\n",
       "      <th>0</th>\n",
       "      <td>0.028279</td>\n",
       "      <td>0.012325</td>\n",
       "      <td>0.992254</td>\n",
       "      <td>0.962786</td>\n",
       "    </tr>\n",
       "    <tr>\n",
       "      <th>1</th>\n",
       "      <td>0.021316</td>\n",
       "      <td>0.003759</td>\n",
       "      <td>0.872047</td>\n",
       "      <td>0.988042</td>\n",
       "    </tr>\n",
       "    <tr>\n",
       "      <th>2</th>\n",
       "      <td>0.084306</td>\n",
       "      <td>0.086309</td>\n",
       "      <td>0.984248</td>\n",
       "      <td>0.787522</td>\n",
       "    </tr>\n",
       "    <tr>\n",
       "      <th>3</th>\n",
       "      <td>0.091524</td>\n",
       "      <td>0.032593</td>\n",
       "      <td>0.983279</td>\n",
       "      <td>0.941264</td>\n",
       "    </tr>\n",
       "    <tr>\n",
       "      <th>4</th>\n",
       "      <td>0.034420</td>\n",
       "      <td>0.001753</td>\n",
       "      <td>0.921453</td>\n",
       "      <td>0.970365</td>\n",
       "    </tr>\n",
       "  </tbody>\n",
       "</table>\n",
       "</div>"
      ],
      "text/plain": [
       "      x_min     y_min     x_max     y_max\n",
       "0  0.028279  0.012325  0.992254  0.962786\n",
       "1  0.021316  0.003759  0.872047  0.988042\n",
       "2  0.084306  0.086309  0.984248  0.787522\n",
       "3  0.091524  0.032593  0.983279  0.941264\n",
       "4  0.034420  0.001753  0.921453  0.970365"
      ]
     },
     "execution_count": 9,
     "metadata": {},
     "output_type": "execute_result"
    }
   ],
   "source": [
    "trajectory_bounding_boxes = cuspatial.core.spatial.bounding.polyline_bounding_boxes(\n",
    "    trajectory_offsets,\n",
    "    sorted_trajectories['x'],\n",
    "    sorted_trajectories['y'],\n",
    "    0.0001\n",
    ")\n",
    "trajectory_bounding_boxes.head()"
   ]
  },
  {
   "attachments": {
    "image.png": {
     "image/png": "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"
    }
   },
   "cell_type": "markdown",
   "id": "c9085e80-e7ba-48e9-8c50-12e544e3af46",
   "metadata": {},
   "source": [
    "## Distance\n",
    "\n",
    "Two pairwise distance functions are included in cuspatial: `haversine` and   `pairwise_linestring`. The `hausdorff` clustering distances algorithm is   also available, computing the hausdorff distance across the cartesian   product of its single input.\n",
    "\n",
    "### Hausdorff distance\n",
    "\n",
    "The directed Hausdorff distance from one space to another is the greatest of all the distances between any point in the first space to the closet point in the second.\n",
    "\n",
    "![image.png](attachment:image.png)\n",
    "\n",
    "[Hausdorff distance](https://en.wikipedia.org/wiki/Hausdorff_distance)"
   ]
  },
  {
   "cell_type": "code",
   "execution_count": 13,
   "id": "e75b0352-0f80-404d-a113-f301601cd5a3",
   "metadata": {},
   "outputs": [
    {
     "data": {
      "text/html": [
       "<div>\n",
       "<style scoped>\n",
       "    .dataframe tbody tr th:only-of-type {\n",
       "        vertical-align: middle;\n",
       "    }\n",
       "\n",
       "    .dataframe tbody tr th {\n",
       "        vertical-align: top;\n",
       "    }\n",
       "\n",
       "    .dataframe thead th {\n",
       "        text-align: right;\n",
       "    }\n",
       "</style>\n",
       "<table border=\"1\" class=\"dataframe\">\n",
       "  <thead>\n",
       "    <tr style=\"text-align: right;\">\n",
       "      <th></th>\n",
       "      <th>0</th>\n",
       "      <th>1</th>\n",
       "      <th>2</th>\n",
       "      <th>3</th>\n",
       "      <th>4</th>\n",
       "      <th>5</th>\n",
       "      <th>6</th>\n",
       "      <th>7</th>\n",
       "      <th>8</th>\n",
       "      <th>9</th>\n",
       "      <th>...</th>\n",
       "      <th>389</th>\n",
       "      <th>390</th>\n",
       "      <th>391</th>\n",
       "      <th>392</th>\n",
       "      <th>393</th>\n",
       "      <th>394</th>\n",
       "      <th>395</th>\n",
       "      <th>396</th>\n",
       "      <th>397</th>\n",
       "      <th>398</th>\n",
       "    </tr>\n",
       "  </thead>\n",
       "  <tbody>\n",
       "    <tr>\n",
       "      <th>0</th>\n",
       "      <td>0.000000</td>\n",
       "      <td>0.336911</td>\n",
       "      <td>0.294162</td>\n",
       "      <td>0.210422</td>\n",
       "      <td>0.268964</td>\n",
       "      <td>0.171591</td>\n",
       "      <td>0.189574</td>\n",
       "      <td>0.175434</td>\n",
       "      <td>0.270227</td>\n",
       "      <td>0.248516</td>\n",
       "      <td>...</td>\n",
       "      <td>0.219658</td>\n",
       "      <td>0.337398</td>\n",
       "      <td>0.239409</td>\n",
       "      <td>0.220477</td>\n",
       "      <td>0.341833</td>\n",
       "      <td>0.213389</td>\n",
       "      <td>0.257632</td>\n",
       "      <td>0.320517</td>\n",
       "      <td>0.271477</td>\n",
       "      <td>0.198901</td>\n",
       "    </tr>\n",
       "    <tr>\n",
       "      <th>1</th>\n",
       "      <td>0.330861</td>\n",
       "      <td>0.000000</td>\n",
       "      <td>0.344391</td>\n",
       "      <td>0.220217</td>\n",
       "      <td>0.311171</td>\n",
       "      <td>0.224392</td>\n",
       "      <td>0.222268</td>\n",
       "      <td>0.185861</td>\n",
       "      <td>0.292628</td>\n",
       "      <td>0.307903</td>\n",
       "      <td>...</td>\n",
       "      <td>0.263502</td>\n",
       "      <td>0.208257</td>\n",
       "      <td>0.221130</td>\n",
       "      <td>0.192235</td>\n",
       "      <td>0.195808</td>\n",
       "      <td>0.343449</td>\n",
       "      <td>0.245415</td>\n",
       "      <td>0.331417</td>\n",
       "      <td>0.336341</td>\n",
       "      <td>0.198668</td>\n",
       "    </tr>\n",
       "    <tr>\n",
       "      <th>2</th>\n",
       "      <td>0.176101</td>\n",
       "      <td>0.187109</td>\n",
       "      <td>0.000000</td>\n",
       "      <td>0.156961</td>\n",
       "      <td>0.153383</td>\n",
       "      <td>0.185378</td>\n",
       "      <td>0.172219</td>\n",
       "      <td>0.197766</td>\n",
       "      <td>0.183839</td>\n",
       "      <td>0.251442</td>\n",
       "      <td>...</td>\n",
       "      <td>0.205388</td>\n",
       "      <td>0.306985</td>\n",
       "      <td>0.203075</td>\n",
       "      <td>0.202848</td>\n",
       "      <td>0.295779</td>\n",
       "      <td>0.199582</td>\n",
       "      <td>0.197776</td>\n",
       "      <td>0.248379</td>\n",
       "      <td>0.183192</td>\n",
       "      <td>0.174516</td>\n",
       "    </tr>\n",
       "    <tr>\n",
       "      <th>3</th>\n",
       "      <td>0.192218</td>\n",
       "      <td>0.271429</td>\n",
       "      <td>0.236328</td>\n",
       "      <td>0.000000</td>\n",
       "      <td>0.232450</td>\n",
       "      <td>0.257837</td>\n",
       "      <td>0.231679</td>\n",
       "      <td>0.273909</td>\n",
       "      <td>0.206785</td>\n",
       "      <td>0.235760</td>\n",
       "      <td>...</td>\n",
       "      <td>0.238297</td>\n",
       "      <td>0.280125</td>\n",
       "      <td>0.198551</td>\n",
       "      <td>0.155625</td>\n",
       "      <td>0.271738</td>\n",
       "      <td>0.203508</td>\n",
       "      <td>0.226660</td>\n",
       "      <td>0.309174</td>\n",
       "      <td>0.233177</td>\n",
       "      <td>0.198380</td>\n",
       "    </tr>\n",
       "    <tr>\n",
       "      <th>4</th>\n",
       "      <td>0.324427</td>\n",
       "      <td>0.190204</td>\n",
       "      <td>0.314810</td>\n",
       "      <td>0.258311</td>\n",
       "      <td>0.000000</td>\n",
       "      <td>0.175813</td>\n",
       "      <td>0.257280</td>\n",
       "      <td>0.191042</td>\n",
       "      <td>0.197871</td>\n",
       "      <td>0.275984</td>\n",
       "      <td>...</td>\n",
       "      <td>0.235269</td>\n",
       "      <td>0.285812</td>\n",
       "      <td>0.219783</td>\n",
       "      <td>0.199959</td>\n",
       "      <td>0.170523</td>\n",
       "      <td>0.349991</td>\n",
       "      <td>0.182873</td>\n",
       "      <td>0.211875</td>\n",
       "      <td>0.180401</td>\n",
       "      <td>0.199965</td>\n",
       "    </tr>\n",
       "  </tbody>\n",
       "</table>\n",
       "<p>5 rows × 399 columns</p>\n",
       "</div>"
      ],
      "text/plain": [
       "        0         1         2         3         4         5         6    \\\n",
       "0  0.000000  0.336911  0.294162  0.210422  0.268964  0.171591  0.189574   \n",
       "1  0.330861  0.000000  0.344391  0.220217  0.311171  0.224392  0.222268   \n",
       "2  0.176101  0.187109  0.000000  0.156961  0.153383  0.185378  0.172219   \n",
       "3  0.192218  0.271429  0.236328  0.000000  0.232450  0.257837  0.231679   \n",
       "4  0.324427  0.190204  0.314810  0.258311  0.000000  0.175813  0.257280   \n",
       "\n",
       "        7         8         9    ...       389       390       391       392  \\\n",
       "0  0.175434  0.270227  0.248516  ...  0.219658  0.337398  0.239409  0.220477   \n",
       "1  0.185861  0.292628  0.307903  ...  0.263502  0.208257  0.221130  0.192235   \n",
       "2  0.197766  0.183839  0.251442  ...  0.205388  0.306985  0.203075  0.202848   \n",
       "3  0.273909  0.206785  0.235760  ...  0.238297  0.280125  0.198551  0.155625   \n",
       "4  0.191042  0.197871  0.275984  ...  0.235269  0.285812  0.219783  0.199959   \n",
       "\n",
       "        393       394       395       396       397       398  \n",
       "0  0.341833  0.213389  0.257632  0.320517  0.271477  0.198901  \n",
       "1  0.195808  0.343449  0.245415  0.331417  0.336341  0.198668  \n",
       "2  0.295779  0.199582  0.197776  0.248379  0.183192  0.174516  \n",
       "3  0.271738  0.203508  0.226660  0.309174  0.233177  0.198380  \n",
       "4  0.170523  0.349991  0.182873  0.211875  0.180401  0.199965  \n",
       "\n",
       "[5 rows x 399 columns]"
      ]
     },
     "execution_count": 13,
     "metadata": {},
     "output_type": "execute_result"
    }
   ],
   "source": [
    "hausdorff_distances = cuspatial.core.spatial.distance.directed_hausdorff_distance(\n",
    "    sorted_trajectories['x'],\n",
    "    sorted_trajectories['y'],\n",
    "    trajectory_offsets\n",
    ")\n",
    "hausdorff_distances.head()"
   ]
  },
  {
   "cell_type": "markdown",
   "id": "993d7566-203e-4b87-adad-088e2fd92eed",
   "metadata": {},
   "source": [
    "### Haversine distance\n",
    "\n",
    "Spatial developers will commonly be familiar with haversine distance, the great circle distance between a pair of lat/lon pairs."
   ]
  },
  {
   "cell_type": "code",
<<<<<<< Updated upstream
   "execution_count": 22,
=======
   "execution_count": 72,
>>>>>>> Stashed changes
   "id": "70f66319-c4d2-4a93-ab98-0debcce4a719",
   "metadata": {},
   "outputs": [
    {
     "data": {
      "text/plain": [
       "0    9959.695143\n",
       "1    9803.166859\n",
       "2    9876.857085\n",
       "3    9925.097106\n",
       "4    9927.268486\n",
       "dtype: float64"
      ]
     },
<<<<<<< Updated upstream
     "execution_count": 22,
=======
     "execution_count": 72,
>>>>>>> Stashed changes
     "metadata": {},
     "output_type": "execute_result"
    }
   ],
   "source": [
    "host_dataframe = geopandas.read_file(geopandas.datasets.get_path(\"naturalearth_lowres\"))\n",
    "gpu_dataframe = cuspatial.from_geopandas(host_dataframe)\n",
    "polygons_first = gpu_dataframe['geometry'][0:10]\n",
    "polygons_second = gpu_dataframe['geometry'][10:20]\n",
    "# The number of coordinates in two sets of polygons vary, so\n",
    "# we'll just compare the first set of 1000 values here.\n",
    "distances_in_meters = cuspatial.core.spatial.distance.haversine_distance(\n",
    "    polygons_first.polygons.x[0:1000],\n",
    "    polygons_first.polygons.y[0:1000],\n",
    "    polygons_second.polygons.x[0:1000],\n",
    "    polygons_second.polygons.y[0:1000]\n",
    ")\n",
    "cudf.Series(distances_in_meters).head()"
   ]
  },
  {
   "cell_type": "markdown",
   "id": "7f2239c5-58d0-4912-9bd7-246cc6741c0a",
   "metadata": {},
   "source": [
    "### Pairwise distance\n",
    "\n",
    "`pairwise_linestring_distance` computes the distance between a `GeoSeries` of Linestrings of length `n` and a corresponding `GeoSeries` of Linestrings of length `n`. It returns the distance from each point to the nearest segment or point within the corresponding `Linestring`.\n",
    "\n",
    "It supports using `Point` or `MultiPoint` via the first argument `offsets1`. With points as input, the first argument will be a monotonically increasing column of values from $0$ to `len(linestrings)`. To use multipoints, pass instead the offsets buffer for the multipoint geometry. You can also compute the distances of polygons from one another, but not multipolygons or multilinestrings yet.\n",
    "\n",
    "The below example uses the polygons from `naturalearth_lowres` and treats them as linestrings. The first example computes the distances between all polygons and themselves, while the second example computes the distance between the first 50 polygons and the second 50 polygons."
   ]
  },
  {
   "cell_type": "code",
<<<<<<< Updated upstream
   "execution_count": 32,
=======
   "execution_count": 73,
>>>>>>> Stashed changes
   "id": "6fbbbba2-3b9c-45cf-ae62-9a295c611101",
   "metadata": {},
   "outputs": [
    {
     "name": "stdout",
     "output_type": "stream",
     "text": [
      "0    0.0\n",
      "1    0.0\n",
      "2    0.0\n",
      "3    0.0\n",
      "4    0.0\n",
      "dtype: float64\n",
      "0    158.909108\n",
      "1    161.305521\n",
      "2    191.531803\n",
      "3     10.836327\n",
      "4      6.071681\n",
      "dtype: float64\n"
     ]
    }
   ],
   "source": [
    "host_dataframe = geopandas.read_file(geopandas.datasets.get_path(\"naturalearth_lowres\"))\n",
    "gpu_dataframe = cuspatial.from_geopandas(host_dataframe)\n",
    "geometry = gpu_dataframe['geometry']\n",
    "num_rings = len(geometry.polygons.ring_offset)\n",
    "points_x = (cupy.random.random(num_rings)-0.5) * 360\n",
    "points_y = (cupy.random.random(num_rings)-0.5) * 180\n",
    "point_offsets = cupy.arange(num_rings) * 2\n",
    "zeros = cuspatial.core.spatial.distance.pairwise_linestring_distance(\n",
    "    geometry.polygons.ring_offset,\n",
    "    geometry.polygons.x,\n",
    "    geometry.polygons.y,\n",
    "    geometry.polygons.ring_offset,\n",
    "    geometry.polygons.x,\n",
    "    geometry.polygons.y\n",
    ")\n",
    "print(zeros.head())\n",
    "lines1 = geometry[0:50].polygons\n",
    "lines2 = geometry[50:100].polygons\n",
    "distances = cuspatial.core.spatial.distance.pairwise_linestring_distance(\n",
    "    lines1.ring_offset,\n",
    "    lines1.x,\n",
    "    lines1.y,\n",
    "    lines2.ring_offset,\n",
    "    lines2.x,\n",
    "    lines2.y\n",
    ")\n",
    "print(distances.head())"
   ]
  },
  {
   "cell_type": "markdown",
   "id": "f5f27dc3-46ee-4a62-82de-20f76744382f",
   "metadata": {},
   "source": [
    "## Filtering\n",
    "\n",
    "The filtering module contains `points_in_spatial_window`, which returns from a set of points only those points that fall within a spatial window defined by four bounding coordinates: `min_x`, `max_x`, `min_y`, and `max_y`. The following example finds only the points of polygons that fall within 1 standard deviation of the mean of all of the polygons.\n"
   ]
  },
  {
   "cell_type": "code",
<<<<<<< Updated upstream
   "execution_count": 40,
=======
   "execution_count": 74,
>>>>>>> Stashed changes
   "id": "d1ade9da-c9e2-45c4-9685-dffeda3fd358",
   "metadata": {},
   "outputs": [
    {
     "data": {
      "text/html": [
       "<div>\n",
       "<style scoped>\n",
       "    .dataframe tbody tr th:only-of-type {\n",
       "        vertical-align: middle;\n",
       "    }\n",
       "\n",
       "    .dataframe tbody tr th {\n",
       "        vertical-align: top;\n",
       "    }\n",
       "\n",
       "    .dataframe thead th {\n",
       "        text-align: right;\n",
       "    }\n",
       "</style>\n",
       "<table border=\"1\" class=\"dataframe\">\n",
       "  <thead>\n",
       "    <tr style=\"text-align: right;\">\n",
       "      <th></th>\n",
       "      <th>x</th>\n",
       "      <th>y</th>\n",
       "    </tr>\n",
       "  </thead>\n",
       "  <tbody>\n",
       "    <tr>\n",
       "      <th>0</th>\n",
       "      <td>33.903711</td>\n",
       "      <td>-0.95000</td>\n",
       "    </tr>\n",
       "    <tr>\n",
       "      <th>1</th>\n",
       "      <td>34.072620</td>\n",
       "      <td>-1.05982</td>\n",
       "    </tr>\n",
       "    <tr>\n",
       "      <th>2</th>\n",
       "      <td>37.698690</td>\n",
       "      <td>-3.09699</td>\n",
       "    </tr>\n",
       "    <tr>\n",
       "      <th>3</th>\n",
       "      <td>37.766900</td>\n",
       "      <td>-3.67712</td>\n",
       "    </tr>\n",
       "    <tr>\n",
       "      <th>4</th>\n",
       "      <td>39.202220</td>\n",
       "      <td>-4.67677</td>\n",
       "    </tr>\n",
       "  </tbody>\n",
       "</table>\n",
       "</div>"
      ],
      "text/plain": [
       "           x        y\n",
       "0  33.903711 -0.95000\n",
       "1  34.072620 -1.05982\n",
       "2  37.698690 -3.09699\n",
       "3  37.766900 -3.67712\n",
       "4  39.202220 -4.67677"
      ]
     },
<<<<<<< Updated upstream
     "execution_count": 40,
=======
     "execution_count": 74,
>>>>>>> Stashed changes
     "metadata": {},
     "output_type": "execute_result"
    }
   ],
   "source": [
    "host_dataframe = geopandas.read_file(geopandas.datasets.get_path(\"naturalearth_lowres\"))\n",
    "gpu_dataframe = cuspatial.from_geopandas(host_dataframe)\n",
    "geometry = gpu_dataframe['geometry']\n",
    "mean_x, std_x = (geometry.polygons.x.mean(), geometry.polygons.x.std())\n",
    "mean_y, std_y = (geometry.polygons.y.mean(), geometry.polygons.y.std())\n",
    "avg_points = cuspatial.core.spatial.filtering.points_in_spatial_window(\n",
    "    mean_x - std_x,\n",
    "    mean_x + std_x,\n",
    "    mean_y - std_y,\n",
    "    mean_y + std_y,\n",
    "    geometry.polygons.x,\n",
    "    geometry.polygons.y\n",
    ")\n",
    "avg_points.head()"
   ]
  },
  {
   "cell_type": "markdown",
   "id": "5027a3dd-78bb-4d17-af94-506d0ed689c8",
   "metadata": {},
   "source": [
    "With some careful grouping, one can reconstruct the original complete polygons that fall within the range."
   ]
  },
  {
   "cell_type": "markdown",
   "id": "387565b3-75ae-4789-a950-daffc2d4da01",
   "metadata": {},
   "source": [
    "## Indexing\n",
    "\n",
    "The indexing module is used to create a spatial quadtree. Use  \n",
    "```\n",
    "cuspatial.core.spatial.indexing.quadtree_on_points(\n",
    "    xs,\n",
    "    ys,\n",
    "    x_min,\n",
    "    x_max,\n",
    "    y_min,\n",
    "    y_max,\n",
    "    scale,\n",
    "    max_depth,\n",
    "    min_size\n",
    ")\n",
    "```\n",
    "to create the quadtree object that is used by the `quadtree_point_in_polygon`  \n",
    "function in the `join` module.\n",
    "\n",
    "The function uses a set of points and a user-defined bounding box to build an  \n",
    "indexing quad tree. Be sure to adjust the parameters appropriately, with larger  \n",
    "parameter values for larger datasets.\n",
    "\n",
    "`scale`: A scaling function that increases the size of the point space from an  \n",
    "origin defined by `{x_min, y_min}`. This can increase the likelihood generating  \n",
    "well separated quads.\n",
    "\n",
    "`max_depth`: In order for a quadtree to index points effectively, it must have a\n",
    "depth that is log-scaled with the size of the number of points. Each level of the  \n",
    "quad tree contains 4 quads. The number of available quads $q$ for indexing is then  \n",
    "equal to $q = 4^{d}$ where $d$ is the `max_depth` parameter. With an input size  \n",
    "of `10m` points and `max_depth = 7`, $\\frac{10^6}{4^7}$ points will be most  \n",
    "efficiently packed into the leaves of the quad tree.\n",
    "\n",
    "`min_size`: The minimum number of points for a non-leaf quadtree node. As the  \n",
    "quadtree is generated, a leaf node containing usable index points will be created  \n",
    "as points are added. If the number of points in this leaf exceeds `min_size`, the  \n",
    "leaf will be subdivided, with four new leaves added and the original node removed  \n",
    "from the set of leaves. This number is probably optimized in most datasets by  \n",
    "making it a significant fraction of the optimal leaf size computation from above.  \n",
    "Consider $10,000,000 / 4^7 / 4 = 153$."
   ]
  },
  {
   "cell_type": "code",
<<<<<<< Updated upstream
   "execution_count": 46,
=======
   "execution_count": 75,
>>>>>>> Stashed changes
   "id": "e3a0a9a3-0bdd-4f05-bcb5-7db4b99a44a3",
   "metadata": {},
   "outputs": [
    {
     "name": "stdout",
     "output_type": "stream",
     "text": [
<<<<<<< Updated upstream
      "0    17\n",
      "1    18\n",
      "2    19\n",
      "3    20\n",
      "4    21\n",
      "dtype: uint32\n",
      "   key  level  is_quad  length  offset\n",
      "0    0      0     True       1       1\n",
      "1    0      1     True       1       2\n",
      "2    0      2     True       1       3\n",
      "3    0      3     True       1       4\n",
      "4    0      4     True       2       5\n"
=======
      "0     2\n",
      "1     5\n",
      "2     7\n",
      "3    11\n",
      "4    12\n",
      "dtype: uint32\n",
      "   key  level  is_quad  length  offset\n",
      "0    0      0     True       1       2\n",
      "1    3      0     True       1       3\n",
      "2    0      1     True       1       4\n",
      "3   15      1     True       1       5\n",
      "4    0      2     True       1       6\n"
>>>>>>> Stashed changes
     ]
    }
   ],
   "source": [
    "polygons = gpu_dataframe['geometry'].polygons\n",
    "scale = 175\n",
    "max_depth = 7\n",
    "min_size = 125\n",
<<<<<<< Updated upstream
    "point_indices, quadtree = cuspatial.quadtree_on_points(polygons.x,\n",
    "                                                       polygons.y,\n",
=======
    "point_indices, quadtree = cuspatial.quadtree_on_points(x_points,\n",
    "                                                       y_points,\n",
>>>>>>> Stashed changes
    "                                                       polygons.x.min(),\n",
    "                                                       polygons.x.max(),\n",
    "                                                       polygons.y.min(),\n",
    "                                                       polygons.y.max(),\n",
    "                                                       scale,\n",
    "                                                       max_depth,\n",
    "                                                       min_size)\n",
    "print(point_indices.head())\n",
    "print(quadtree.head())"
   ]
  },
  {
   "cell_type": "markdown",
   "id": "0ab7e64d-1199-498c-b020-b3e7393337a5",
   "metadata": {},
   "source": [
    "These results, the `point_indices` and the `quadtree` are used by `point_in_polygon_quadtree` for a more powerful method to compute point_in_polygon in all of the methods that it is useful. `point_in_polygon_quadtree` depends on a number of intermediate products that are calculated here:"
   ]
  },
  {
   "cell_type": "code",
<<<<<<< Updated upstream
   "execution_count": 66,
=======
   "execution_count": 76,
>>>>>>> Stashed changes
   "id": "023bd25a-35be-435d-ab0b-ecbd7a47e147",
   "metadata": {},
   "outputs": [
    {
<<<<<<< Updated upstream
     "name": "stdout",
     "output_type": "stream",
     "text": [
      "10000000\n",
      "10000000\n"
     ]
    },
    {
     "ename": "RuntimeError",
     "evalue": "cuSpatial failure at: /home/tcomer/mnt/NVIDIA/rapids-docker/cuspatial/cpp/src/join/quadtree_point_in_polygon.cu:264: number of points must be the same for both x and y columns",
     "output_type": "error",
     "traceback": [
      "\u001b[0;31m---------------------------------------------------------------------------\u001b[0m",
      "\u001b[0;31mRuntimeError\u001b[0m                              Traceback (most recent call last)",
      "Cell \u001b[0;32mIn [66], line 17\u001b[0m\n\u001b[1;32m     15\u001b[0m \u001b[38;5;28mprint\u001b[39m(\u001b[38;5;28mlen\u001b[39m(x_points))\n\u001b[1;32m     16\u001b[0m \u001b[38;5;28mprint\u001b[39m(\u001b[38;5;28mlen\u001b[39m(y_points))\n\u001b[0;32m---> 17\u001b[0m polygons_and_points \u001b[38;5;241m=\u001b[39m \u001b[43mcuspatial\u001b[49m\u001b[38;5;241;43m.\u001b[39;49m\u001b[43mquadtree_point_in_polygon\u001b[49m\u001b[43m(\u001b[49m\n\u001b[1;32m     18\u001b[0m \u001b[43m    \u001b[49m\u001b[43mintersections\u001b[49m\u001b[43m,\u001b[49m\n\u001b[1;32m     19\u001b[0m \u001b[43m    \u001b[49m\u001b[43mquadtree\u001b[49m\u001b[43m,\u001b[49m\n\u001b[1;32m     20\u001b[0m \u001b[43m    \u001b[49m\u001b[43mpoint_indices\u001b[49m\u001b[43m,\u001b[49m\n\u001b[1;32m     21\u001b[0m \u001b[43m    \u001b[49m\u001b[43mx_points\u001b[49m\u001b[43m,\u001b[49m\n\u001b[1;32m     22\u001b[0m \u001b[43m    \u001b[49m\u001b[43my_points\u001b[49m\u001b[43m,\u001b[49m\n\u001b[1;32m     23\u001b[0m \u001b[43m    \u001b[49m\u001b[43mpolygons\u001b[49m\u001b[38;5;241;43m.\u001b[39;49m\u001b[43mpart_offset\u001b[49m\u001b[43m,\u001b[49m\n\u001b[1;32m     24\u001b[0m \u001b[43m    \u001b[49m\u001b[43mpolygons\u001b[49m\u001b[38;5;241;43m.\u001b[39;49m\u001b[43mring_offset\u001b[49m\u001b[43m,\u001b[49m\n\u001b[1;32m     25\u001b[0m \u001b[43m    \u001b[49m\u001b[43mpolygons\u001b[49m\u001b[38;5;241;43m.\u001b[39;49m\u001b[43mx\u001b[49m\u001b[43m,\u001b[49m\n\u001b[1;32m     26\u001b[0m \u001b[43m    \u001b[49m\u001b[43mpolygons\u001b[49m\u001b[38;5;241;43m.\u001b[39;49m\u001b[43my\u001b[49m\n\u001b[1;32m     27\u001b[0m \u001b[43m)\u001b[49m\n",
      "File \u001b[0;32m~/cuspatial/python/cuspatial/cuspatial/core/spatial/join.py:256\u001b[0m, in \u001b[0;36mquadtree_point_in_polygon\u001b[0;34m(poly_quad_pairs, quadtree, point_indices, points_x, points_y, poly_offsets, ring_offsets, poly_points_x, poly_points_y)\u001b[0m\n\u001b[1;32m    200\u001b[0m \u001b[38;5;124;03m\"\"\"Test whether the specified points are inside any of the specified\u001b[39;00m\n\u001b[1;32m    201\u001b[0m \u001b[38;5;124;03mpolygons.\u001b[39;00m\n\u001b[1;32m    202\u001b[0m \n\u001b[0;32m   (...)\u001b[0m\n\u001b[1;32m    241\u001b[0m \u001b[38;5;124;03m        Indices of each point that intersects with a polygon.\u001b[39;00m\n\u001b[1;32m    242\u001b[0m \u001b[38;5;124;03m\"\"\"\u001b[39;00m\n\u001b[1;32m    244\u001b[0m (\n\u001b[1;32m    245\u001b[0m     points_x,\n\u001b[1;32m    246\u001b[0m     points_y,\n\u001b[0;32m   (...)\u001b[0m\n\u001b[1;32m    253\u001b[0m     as_column(poly_points_y),\n\u001b[1;32m    254\u001b[0m )\n\u001b[1;32m    255\u001b[0m \u001b[38;5;28;01mreturn\u001b[39;00m DataFrame\u001b[38;5;241m.\u001b[39m_from_data(\n\u001b[0;32m--> 256\u001b[0m     \u001b[38;5;241m*\u001b[39m\u001b[43mspatial_join\u001b[49m\u001b[38;5;241;43m.\u001b[39;49m\u001b[43mquadtree_point_in_polygon\u001b[49m\u001b[43m(\u001b[49m\n\u001b[1;32m    257\u001b[0m \u001b[43m        \u001b[49m\u001b[43mpoly_quad_pairs\u001b[49m\u001b[43m,\u001b[49m\n\u001b[1;32m    258\u001b[0m \u001b[43m        \u001b[49m\u001b[43mquadtree\u001b[49m\u001b[43m,\u001b[49m\n\u001b[1;32m    259\u001b[0m \u001b[43m        \u001b[49m\u001b[43mas_column\u001b[49m\u001b[43m(\u001b[49m\u001b[43mpoint_indices\u001b[49m\u001b[43m,\u001b[49m\u001b[43m \u001b[49m\u001b[43mdtype\u001b[49m\u001b[38;5;241;43m=\u001b[39;49m\u001b[38;5;124;43m\"\u001b[39;49m\u001b[38;5;124;43muint32\u001b[39;49m\u001b[38;5;124;43m\"\u001b[39;49m\u001b[43m)\u001b[49m\u001b[43m,\u001b[49m\n\u001b[1;32m    260\u001b[0m \u001b[43m        \u001b[49m\u001b[43mpoints_x\u001b[49m\u001b[43m,\u001b[49m\n\u001b[1;32m    261\u001b[0m \u001b[43m        \u001b[49m\u001b[43mpoints_y\u001b[49m\u001b[43m,\u001b[49m\n\u001b[1;32m    262\u001b[0m \u001b[43m        \u001b[49m\u001b[43mas_column\u001b[49m\u001b[43m(\u001b[49m\u001b[43mpoly_offsets\u001b[49m\u001b[43m,\u001b[49m\u001b[43m \u001b[49m\u001b[43mdtype\u001b[49m\u001b[38;5;241;43m=\u001b[39;49m\u001b[38;5;124;43m\"\u001b[39;49m\u001b[38;5;124;43muint32\u001b[39;49m\u001b[38;5;124;43m\"\u001b[39;49m\u001b[43m)\u001b[49m\u001b[43m,\u001b[49m\n\u001b[1;32m    263\u001b[0m \u001b[43m        \u001b[49m\u001b[43mas_column\u001b[49m\u001b[43m(\u001b[49m\u001b[43mring_offsets\u001b[49m\u001b[43m,\u001b[49m\u001b[43m \u001b[49m\u001b[43mdtype\u001b[49m\u001b[38;5;241;43m=\u001b[39;49m\u001b[38;5;124;43m\"\u001b[39;49m\u001b[38;5;124;43muint32\u001b[39;49m\u001b[38;5;124;43m\"\u001b[39;49m\u001b[43m)\u001b[49m\u001b[43m,\u001b[49m\n\u001b[1;32m    264\u001b[0m \u001b[43m        \u001b[49m\u001b[43mpoly_points_x\u001b[49m\u001b[43m,\u001b[49m\n\u001b[1;32m    265\u001b[0m \u001b[43m        \u001b[49m\u001b[43mpoly_points_y\u001b[49m\u001b[43m,\u001b[49m\n\u001b[1;32m    266\u001b[0m \u001b[43m    \u001b[49m\u001b[43m)\u001b[49m\n\u001b[1;32m    267\u001b[0m )\n",
      "File \u001b[0;32mspatial_join.pyx:45\u001b[0m, in \u001b[0;36mcuspatial._lib.spatial_join.quadtree_point_in_polygon\u001b[0;34m()\u001b[0m\n",
      "File \u001b[0;32mspatial_join.pyx:67\u001b[0m, in \u001b[0;36mcuspatial._lib.spatial_join.quadtree_point_in_polygon\u001b[0;34m()\u001b[0m\n",
      "\u001b[0;31mRuntimeError\u001b[0m: cuSpatial failure at: /home/tcomer/mnt/NVIDIA/rapids-docker/cuspatial/cpp/src/join/quadtree_point_in_polygon.cu:264: number of points must be the same for both x and y columns"
     ]
=======
     "data": {
      "text/html": [
       "<div>\n",
       "<style scoped>\n",
       "    .dataframe tbody tr th:only-of-type {\n",
       "        vertical-align: middle;\n",
       "    }\n",
       "\n",
       "    .dataframe tbody tr th {\n",
       "        vertical-align: top;\n",
       "    }\n",
       "\n",
       "    .dataframe thead th {\n",
       "        text-align: right;\n",
       "    }\n",
       "</style>\n",
       "<table border=\"1\" class=\"dataframe\">\n",
       "  <thead>\n",
       "    <tr style=\"text-align: right;\">\n",
       "      <th></th>\n",
       "      <th>polygon_index</th>\n",
       "      <th>point_index</th>\n",
       "    </tr>\n",
       "  </thead>\n",
       "  <tbody>\n",
       "    <tr>\n",
       "      <th>0</th>\n",
       "      <td>2</td>\n",
       "      <td>1774053</td>\n",
       "    </tr>\n",
       "    <tr>\n",
       "      <th>1</th>\n",
       "      <td>2</td>\n",
       "      <td>2433233</td>\n",
       "    </tr>\n",
       "    <tr>\n",
       "      <th>2</th>\n",
       "      <td>2</td>\n",
       "      <td>4535976</td>\n",
       "    </tr>\n",
       "    <tr>\n",
       "      <th>3</th>\n",
       "      <td>4</td>\n",
       "      <td>3156</td>\n",
       "    </tr>\n",
       "    <tr>\n",
       "      <th>4</th>\n",
       "      <td>4</td>\n",
       "      <td>12655</td>\n",
       "    </tr>\n",
       "  </tbody>\n",
       "</table>\n",
       "</div>"
      ],
      "text/plain": [
       "   polygon_index  point_index\n",
       "0              2      1774053\n",
       "1              2      2433233\n",
       "2              2      4535976\n",
       "3              4         3156\n",
       "4              4        12655"
      ]
     },
     "execution_count": 76,
     "metadata": {},
     "output_type": "execute_result"
>>>>>>> Stashed changes
    }
   ],
   "source": [
    "host_dataframe = geopandas.read_file(geopandas.datasets.get_path(\"naturalearth_lowres\"))\n",
    "gpu_dataframe = cuspatial.from_geopandas(host_dataframe)\n",
    "x_points = (cupy.random.random(10000000) - 0.5) * 360\n",
    "y_points = (cupy.random.random(10000000) - 0.5) * 180\n",
    "\n",
    "poly_bboxes = cuspatial.polygon_bounding_boxes(\n",
    "    polygons.part_offset,\n",
    "    polygons.ring_offset,\n",
    "    polygons.x,\n",
    "    polygons.y\n",
    ")\n",
    "intersections = cuspatial.join_quadtree_and_bounding_boxes(\n",
    "    quadtree, poly_bboxes, x_min, x_max, y_min, y_max, scale, max_depth\n",
    ")\n",
<<<<<<< Updated upstream
    "print(len(x_points))\n",
    "print(len(y_points))\n",
=======
>>>>>>> Stashed changes
    "polygons_and_points = cuspatial.quadtree_point_in_polygon(\n",
    "    intersections,\n",
    "    quadtree,\n",
    "    point_indices,\n",
    "    x_points,\n",
    "    y_points,\n",
    "    polygons.part_offset,\n",
    "    polygons.ring_offset,\n",
    "    polygons.x,\n",
    "    polygons.y\n",
<<<<<<< Updated upstream
    ")\n"
=======
    ")\n",
    "polygons_and_points.head()"
>>>>>>> Stashed changes
   ]
  },
  {
   "cell_type": "markdown",
   "id": "7286742e-a739-48f1-9ad5-8930155870a5",
   "metadata": {},
   "source": [
    "## Join\n",
    "\n",
<<<<<<< Updated upstream
    "cuspatial implements point-in-polygon and point-to-nearest-line-segment algorithms  \n",
    "for spatial joining. You can use these algorithms to implement most spatial-join  \n",
    "needs. You can implement most polygonal joins using only point-in-polygon:  \n",
=======
    "cuspatial implements point-in-polygon and point-to-nearest-line-segment algorithms for spatial joining. You can use these algorithms to implement most spatial-join needs. You can implement most polygonal joins using only point-in-polygon:  \n",
>>>>>>> Stashed changes
    "\n",
    "* Contains\n",
    "* Overlaps\n",
    "* Within\n",
    "\n",
    "### Contains\n",
    "\n",
<<<<<<< Updated upstream
    "By keeping track of point ids it is possible to treat any geometry type as points and  \n",
    "join using point-in-polygon."
=======
    "By keeping track of point ids it is possible to treat any geometry type as points and join using point-in-polygon."
>>>>>>> Stashed changes
   ]
  },
  {
   "cell_type": "code",
<<<<<<< Updated upstream
   "execution_count": 11,
=======
   "execution_count": 77,
>>>>>>> Stashed changes
   "id": "68d1677f",
   "metadata": {},
   "outputs": [
    {
     "ename": "NameError",
     "evalue": "name 'read_polygon_set1' is not defined",
     "output_type": "error",
     "traceback": [
      "\u001b[0;31m---------------------------------------------------------------------------\u001b[0m",
      "\u001b[0;31mNameError\u001b[0m                                 Traceback (most recent call last)",
<<<<<<< Updated upstream
      "Cell \u001b[0;32mIn [11], line 1\u001b[0m\n\u001b[0;32m----> 1\u001b[0m polygon1 \u001b[38;5;241m=\u001b[39m \u001b[43mread_polygon_set1\u001b[49m()\n\u001b[1;32m      2\u001b[0m polygon2 \u001b[38;5;241m=\u001b[39m read_polygon_set2()\n\u001b[1;32m      3\u001b[0m \u001b[38;5;66;03m# Create quadtree\u001b[39;00m\n",
=======
      "Cell \u001b[0;32mIn [77], line 1\u001b[0m\n\u001b[0;32m----> 1\u001b[0m polygon1 \u001b[38;5;241m=\u001b[39m \u001b[43mread_polygon_set1\u001b[49m()\n\u001b[1;32m      2\u001b[0m polygon2 \u001b[38;5;241m=\u001b[39m read_polygon_set2()\n\u001b[1;32m      3\u001b[0m \u001b[38;5;66;03m# Create quadtree\u001b[39;00m\n",
>>>>>>> Stashed changes
      "\u001b[0;31mNameError\u001b[0m: name 'read_polygon_set1' is not defined"
     ]
    }
   ],
   "source": [
    "polygon1 = read_polygon_set1()\n",
    "polygon2 = read_polygon_set2()\n",
    "# Create quadtree\n",
    "polygon_to_points = polygon2.polygons.GetPolygonPoints()\n",
    "points = cuspatial.core.GeoSeries.from_points(polygon_to_points)\n",
    "quadtree = cuspatial.core.join.create_quadtree(\n",
    "    points,\n",
    "    scale = 1.0\n",
    ")\n",
    "contains_points = cuspatial.core.join.quadtree_point_in_polygon(\n",
    "    polygon1,\n",
    "    points,\n",
    "    max_leaf_node = 1000,\n",
    "    depth = 7,\n",
    "    maxsize = 5\n",
    ")\n",
    "# Polygon to Polygon Masking approach\n",
    "contains = contains_points.groupby('id').sum() == polygon1.groupby('id').sum()"
   ]
  },
  {
   "cell_type": "markdown",
   "id": "e66655ae",
   "metadata": {},
   "source": [
    "This method can be applied to `Polygon`, `LineString`, `MultiPoints`, and `Points`.    \n",
    "By treating the coordinates of each geometry type as points, little additional  \n",
    "is required to implement contains for any geometry set.\n",
    "\n",
    "### Overlaps\n",
    "\n",
    "Point-in-polygon also makes it easy to compute the Overlaps geometry. For a geometry  \n",
    "$g_1$ to overlap $g_2$, some but not all of the points in $g_2$ must fall in the area  \n",
    "defined by $g_1$.\n",
    "\n",
    "Following the example above:"
   ]
  },
  {
   "cell_type": "code",
   "execution_count": 12,
   "id": "9797cc5c",
   "metadata": {},
   "outputs": [
    {
     "ename": "NameError",
     "evalue": "name 'contains_points' is not defined",
     "output_type": "error",
     "traceback": [
      "\u001b[0;31m---------------------------------------------------------------------------\u001b[0m",
      "\u001b[0;31mNameError\u001b[0m                                 Traceback (most recent call last)",
      "Cell \u001b[0;32mIn [12], line 1\u001b[0m\n\u001b[0;32m----> 1\u001b[0m overlaps \u001b[38;5;241m=\u001b[39m \u001b[43mcontains_points\u001b[49m\u001b[38;5;241m.\u001b[39mgroupby(\u001b[38;5;124m'\u001b[39m\u001b[38;5;124mid\u001b[39m\u001b[38;5;124m'\u001b[39m)\u001b[38;5;241m.\u001b[39msum() \u001b[38;5;241m>\u001b[39m \u001b[38;5;241m0\u001b[39m \u001b[38;5;129;01mand\u001b[39;00m contains_points\u001b[38;5;241m.\u001b[39mgroupby(\u001b[38;5;124m'\u001b[39m\u001b[38;5;124mid\u001b[39m\u001b[38;5;124m'\u001b[39m)\u001b[38;5;241m.\u001b[39msum() \u001b[38;5;241m!=\u001b[39m polygon1\u001b[38;5;241m.\u001b[39mgroupby(\u001b[38;5;124m'\u001b[39m\u001b[38;5;124mid\u001b[39m\u001b[38;5;124m'\u001b[39m)\u001b[38;5;241m.\u001b[39msum()\n",
      "\u001b[0;31mNameError\u001b[0m: name 'contains_points' is not defined"
     ]
    }
   ],
   "source": [
    "overlaps = contains_points.groupby('id').sum() > 0 and contains_points.groupby('id').sum() != polygon1.groupby('id').sum()"
   ]
  },
  {
   "cell_type": "markdown",
   "id": "3b99782a",
   "metadata": {},
   "source": [
    "### Within\n",
    "\n",
    "The opposite of `Contains`, `Within` simply reverses the order of testing."
   ]
  },
  {
   "cell_type": "code",
   "execution_count": null,
   "id": "c608d5d5",
   "metadata": {},
   "outputs": [],
   "source": [
    "polygon1 = read_polygon_set1()\n",
    "polygon2 = read_polygon_set2()\n",
    "# Create quadtree\n",
    "polygon_to_points = polygon1.polygons.GetPolygonPoints()\n",
    "points = cuspatial.core.GeoSeries.from_points(polygon_to_points)\n",
    "quadtree = cuspatial.core.join.create_quadtree(\n",
    "    points,\n",
    "    scale = 1.0\n",
    ")\n",
    "contains_points = cuspatial.core.join.quadtree_point_in_polygon(\n",
    "    polygon2,\n",
    "    points,\n",
    "    max_leaf_node = 1000,\n",
    "    depth = 7,\n",
    "    maxsize = 5\n",
    ")\n",
    "# Polygon to Polygon Masking approach\n",
    "within = contains_points.groupby('id').sum() == polygon1.groupby('id').sum()"
   ]
  },
  {
   "cell_type": "markdown",
   "id": "3e4e07f6",
   "metadata": {},
   "source": []
  }
 ],
 "metadata": {
  "kernelspec": {
   "display_name": "Python 3 (ipykernel)",
   "language": "python",
   "name": "python3"
  },
  "language_info": {
   "codemirror_mode": {
    "name": "ipython",
    "version": 3
   },
   "file_extension": ".py",
   "mimetype": "text/x-python",
   "name": "python",
   "nbconvert_exporter": "python",
   "pygments_lexer": "ipython3",
   "version": "3.8.13"
  }
 },
 "nbformat": 4,
 "nbformat_minor": 5
}
